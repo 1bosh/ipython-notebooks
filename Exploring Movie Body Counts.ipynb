{
 "metadata": {
  "name": ""
 },
 "nbformat": 3,
 "nbformat_minor": 0,
 "worksheets": [
  {
   "cells": [
    {
     "cell_type": "markdown",
     "metadata": {},
     "source": [
      "# Exploring Movie Body Counts\n",
      "\n",
      "**Author:** [Ramiro G\u00f3mez](http://ramiro.org/) ([@yaph](https://twitter.com/yaph))\n",
      "\n",
      "A look at movie body counts based on information from the Website [Movie Body Counts](http://www.moviebodycounts.com/).\n",
      "\n",
      "## About the data source\n",
      "\n",
      "Movie Body Counts is a forum where users collect on-screen body counts for a selection of films and the characters and actors who appear in these films. The dataset currently contains counts for 545 films from 1949 to 2013, which is a very small sample of all the films produced in this time frame.\n",
      "\n",
      "To be counted a kill and/or dead body has to be visible on the screen, implied deaths like those died in the explosion of the Death Star are not counted. For more details on how counts should be conducted see [their guidelines](http://moviebodycounts.proboards.com/index.cgi?board=general&action=display&thread=6), the first one reads:\n",
      "\n",
      ">The \"body counts\" for this site are mostly \"on screen kills/deaths\" or fatal/critical/mortal shots/hits of human, humanoid, or creatures (ie monsters, aliens, zombies.) The rule of thumb is \"do they bleed\" which will leave the concept of cyborgs somewhat open and decided per film. The human and creature counts should be separate. These will be added together for a final tally.\n",
      "\n",
      "Apart from the small number of films in this dataset, we can safely assume a [selection bias](https://en.wikipedia.org/wiki/Selection_bias). So take this exploration with a grain of salt and don't generalize any of the results. This is mainly a demonstration of some of things you can to with the tools being used and a fun dataset to look at.\n",
      "\n",
      "The [CSV dataset](http://figshare.com/articles/On_screen_movie_kill_counts_for_hundreds_of_films/889719) is kindly provided by [Randal Olson](http://www.randalolson.com/) ([@randal_olson](https://twitter.com/randal_olson)), who took the effort of collecting the death toll data from Movie Body Counts and added MPAA and IMDB ratings as well as film lengths."
     ]
    },
    {
     "cell_type": "markdown",
     "metadata": {},
     "source": [
      "## Import packages\n",
      "\n",
      "To explore and visualize the data I'll be using several Python packages that greatly facilitate these tasks, namely: [NumPy](http://numpy.org/), [pandas](http://pandas.pydata.org/) and [matplotlib](http://matplotlib.org/)."
     ]
    },
    {
     "cell_type": "code",
     "collapsed": false,
     "input": [
      "import numpy as np\n",
      "import pandas as pd\n",
      "import matplotlib.pyplot as plt"
     ],
     "language": "python",
     "metadata": {},
     "outputs": [],
     "prompt_number": 1
    },
    {
     "cell_type": "markdown",
     "metadata": {},
     "source": [
      "## Load data and first look\n",
      "\n",
      "We can directly download the CSV file from the Web and read it into a pandas [DataFrame](http://pandas.pydata.org/pandas-docs/dev/generated/pandas.DataFrame.html) object."
     ]
    },
    {
     "cell_type": "code",
     "collapsed": false,
     "input": [
      "df = pd.read_csv('http://files.figshare.com/1332945/film_death_counts.csv')"
     ],
     "language": "python",
     "metadata": {},
     "outputs": [],
     "prompt_number": 2
    },
    {
     "cell_type": "markdown",
     "metadata": {},
     "source": [
      "To get a grasp of the data let's look at the first few lines of the CSV file."
     ]
    },
    {
     "cell_type": "code",
     "collapsed": false,
     "input": [
      "df.head()"
     ],
     "language": "python",
     "metadata": {},
     "outputs": [
      {
       "html": [
        "<div style=\"max-height:1000px;max-width:1500px;overflow:auto;\">\n",
        "<table border=\"1\" class=\"dataframe\">\n",
        "  <thead>\n",
        "    <tr style=\"text-align: right;\">\n",
        "      <th></th>\n",
        "      <th>Film</th>\n",
        "      <th>Year</th>\n",
        "      <th>Body_Count</th>\n",
        "      <th>MPAA_Rating</th>\n",
        "      <th>Genre</th>\n",
        "      <th>Director</th>\n",
        "      <th>Length_Minutes</th>\n",
        "      <th>IMDB_Rating</th>\n",
        "    </tr>\n",
        "  </thead>\n",
        "  <tbody>\n",
        "    <tr>\n",
        "      <th>0</th>\n",
        "      <td> 24 Hour Party People</td>\n",
        "      <td> 2002</td>\n",
        "      <td>   7</td>\n",
        "      <td> R</td>\n",
        "      <td> Biography|Comedy|Drama|Music</td>\n",
        "      <td>    Michael Winterbottom</td>\n",
        "      <td> 117</td>\n",
        "      <td> 7.3</td>\n",
        "    </tr>\n",
        "    <tr>\n",
        "      <th>1</th>\n",
        "      <td>        28 Days Later</td>\n",
        "      <td> 2002</td>\n",
        "      <td>  53</td>\n",
        "      <td> R</td>\n",
        "      <td>       Horror|Sci-Fi|Thriller</td>\n",
        "      <td>             Danny Boyle</td>\n",
        "      <td> 113</td>\n",
        "      <td> 7.6</td>\n",
        "    </tr>\n",
        "    <tr>\n",
        "      <th>2</th>\n",
        "      <td>       28 Weeks Later</td>\n",
        "      <td> 2007</td>\n",
        "      <td> 212</td>\n",
        "      <td> R</td>\n",
        "      <td>       Horror|Sci-Fi|Thriller</td>\n",
        "      <td> Juan Carlos Fresnadillo</td>\n",
        "      <td> 100</td>\n",
        "      <td> 7.0</td>\n",
        "    </tr>\n",
        "    <tr>\n",
        "      <th>3</th>\n",
        "      <td>     30 Days of Night</td>\n",
        "      <td> 2007</td>\n",
        "      <td>  67</td>\n",
        "      <td> R</td>\n",
        "      <td>              Horror|Thriller</td>\n",
        "      <td>             David Slade</td>\n",
        "      <td> 113</td>\n",
        "      <td> 6.6</td>\n",
        "    </tr>\n",
        "    <tr>\n",
        "      <th>4</th>\n",
        "      <td>                  300</td>\n",
        "      <td> 2007</td>\n",
        "      <td> 600</td>\n",
        "      <td> R</td>\n",
        "      <td>   Action|Fantasy|History|War</td>\n",
        "      <td>             Zack Snyder</td>\n",
        "      <td> 117</td>\n",
        "      <td> 7.7</td>\n",
        "    </tr>\n",
        "  </tbody>\n",
        "</table>\n",
        "<p>5 rows \u00d7 8 columns</p>\n",
        "</div>"
       ],
       "metadata": {},
       "output_type": "pyout",
       "prompt_number": 3,
       "text": [
        "                   Film  Year  Body_Count MPAA_Rating  \\\n",
        "0  24 Hour Party People  2002           7           R   \n",
        "1         28 Days Later  2002          53           R   \n",
        "2        28 Weeks Later  2007         212           R   \n",
        "3      30 Days of Night  2007          67           R   \n",
        "4                   300  2007         600           R   \n",
        "\n",
        "                          Genre                 Director  Length_Minutes  \\\n",
        "0  Biography|Comedy|Drama|Music     Michael Winterbottom             117   \n",
        "1        Horror|Sci-Fi|Thriller              Danny Boyle             113   \n",
        "2        Horror|Sci-Fi|Thriller  Juan Carlos Fresnadillo             100   \n",
        "3               Horror|Thriller              David Slade             113   \n",
        "4    Action|Fantasy|History|War              Zack Snyder             117   \n",
        "\n",
        "   IMDB_Rating  \n",
        "0          7.3  \n",
        "1          7.6  \n",
        "2          7.0  \n",
        "3          6.6  \n",
        "4          7.7  \n",
        "\n",
        "[5 rows x 8 columns]"
       ]
      }
     ],
     "prompt_number": 3
    },
    {
     "cell_type": "markdown",
     "metadata": {},
     "source": [
      "This dataset looks pretty well suited for doing some explorations and visualizations. I'll rename some columns to have shorter and a little nicer labels later on."
     ]
    },
    {
     "cell_type": "code",
     "collapsed": false,
     "input": [
      "df.columns = ['Film', 'Year', 'Body count', 'MPAA', 'Genre', 'Director', 'Minutes', u'IMDB']"
     ],
     "language": "python",
     "metadata": {},
     "outputs": [],
     "prompt_number": 4
    },
    {
     "cell_type": "markdown",
     "metadata": {},
     "source": [
      "Let's also add a `Film count` column to keep track of the number of films when grouping and the body count per minute."
     ]
    },
    {
     "cell_type": "code",
     "collapsed": false,
     "input": [
      "df['Film count'] = 1\n",
      "df['Body count/min'] = df['Body count'] / df['Minutes'].astype(float)\n",
      "df.head()"
     ],
     "language": "python",
     "metadata": {},
     "outputs": [
      {
       "html": [
        "<div style=\"max-height:1000px;max-width:1500px;overflow:auto;\">\n",
        "<table border=\"1\" class=\"dataframe\">\n",
        "  <thead>\n",
        "    <tr style=\"text-align: right;\">\n",
        "      <th></th>\n",
        "      <th>Film</th>\n",
        "      <th>Year</th>\n",
        "      <th>Body count</th>\n",
        "      <th>MPAA</th>\n",
        "      <th>Genre</th>\n",
        "      <th>Director</th>\n",
        "      <th>Minutes</th>\n",
        "      <th>IMDB</th>\n",
        "      <th>Film count</th>\n",
        "      <th>Body count/min</th>\n",
        "    </tr>\n",
        "  </thead>\n",
        "  <tbody>\n",
        "    <tr>\n",
        "      <th>0</th>\n",
        "      <td> 24 Hour Party People</td>\n",
        "      <td> 2002</td>\n",
        "      <td>   7</td>\n",
        "      <td> R</td>\n",
        "      <td> Biography|Comedy|Drama|Music</td>\n",
        "      <td>    Michael Winterbottom</td>\n",
        "      <td> 117</td>\n",
        "      <td> 7.3</td>\n",
        "      <td> 1</td>\n",
        "      <td> 0.059829</td>\n",
        "    </tr>\n",
        "    <tr>\n",
        "      <th>1</th>\n",
        "      <td>        28 Days Later</td>\n",
        "      <td> 2002</td>\n",
        "      <td>  53</td>\n",
        "      <td> R</td>\n",
        "      <td>       Horror|Sci-Fi|Thriller</td>\n",
        "      <td>             Danny Boyle</td>\n",
        "      <td> 113</td>\n",
        "      <td> 7.6</td>\n",
        "      <td> 1</td>\n",
        "      <td> 0.469027</td>\n",
        "    </tr>\n",
        "    <tr>\n",
        "      <th>2</th>\n",
        "      <td>       28 Weeks Later</td>\n",
        "      <td> 2007</td>\n",
        "      <td> 212</td>\n",
        "      <td> R</td>\n",
        "      <td>       Horror|Sci-Fi|Thriller</td>\n",
        "      <td> Juan Carlos Fresnadillo</td>\n",
        "      <td> 100</td>\n",
        "      <td> 7.0</td>\n",
        "      <td> 1</td>\n",
        "      <td> 2.120000</td>\n",
        "    </tr>\n",
        "    <tr>\n",
        "      <th>3</th>\n",
        "      <td>     30 Days of Night</td>\n",
        "      <td> 2007</td>\n",
        "      <td>  67</td>\n",
        "      <td> R</td>\n",
        "      <td>              Horror|Thriller</td>\n",
        "      <td>             David Slade</td>\n",
        "      <td> 113</td>\n",
        "      <td> 6.6</td>\n",
        "      <td> 1</td>\n",
        "      <td> 0.592920</td>\n",
        "    </tr>\n",
        "    <tr>\n",
        "      <th>4</th>\n",
        "      <td>                  300</td>\n",
        "      <td> 2007</td>\n",
        "      <td> 600</td>\n",
        "      <td> R</td>\n",
        "      <td>   Action|Fantasy|History|War</td>\n",
        "      <td>             Zack Snyder</td>\n",
        "      <td> 117</td>\n",
        "      <td> 7.7</td>\n",
        "      <td> 1</td>\n",
        "      <td> 5.128205</td>\n",
        "    </tr>\n",
        "  </tbody>\n",
        "</table>\n",
        "<p>5 rows \u00d7 10 columns</p>\n",
        "</div>"
       ],
       "metadata": {},
       "output_type": "pyout",
       "prompt_number": 5,
       "text": [
        "                   Film  Year  Body count MPAA                         Genre  \\\n",
        "0  24 Hour Party People  2002           7    R  Biography|Comedy|Drama|Music   \n",
        "1         28 Days Later  2002          53    R        Horror|Sci-Fi|Thriller   \n",
        "2        28 Weeks Later  2007         212    R        Horror|Sci-Fi|Thriller   \n",
        "3      30 Days of Night  2007          67    R               Horror|Thriller   \n",
        "4                   300  2007         600    R    Action|Fantasy|History|War   \n",
        "\n",
        "                  Director  Minutes  IMDB  Film count  Body count/min  \n",
        "0     Michael Winterbottom      117   7.3           1        0.059829  \n",
        "1              Danny Boyle      113   7.6           1        0.469027  \n",
        "2  Juan Carlos Fresnadillo      100   7.0           1        2.120000  \n",
        "3              David Slade      113   6.6           1        0.592920  \n",
        "4              Zack Snyder      117   7.7           1        5.128205  \n",
        "\n",
        "[5 rows x 10 columns]"
       ]
      }
     ],
     "prompt_number": 5
    },
    {
     "cell_type": "markdown",
     "metadata": {},
     "source": [
      "## Body counts over time\n",
      "\n",
      "Next we look at how the number of body counts has evolved over the time frame covered by the dataset. To do so the `DataFrame` is grouped by year calculating the means, medians, and sums of the numeric columns. Also for a change print the last few records. "
     ]
    },
    {
     "cell_type": "code",
     "collapsed": false,
     "input": [
      "group_year = df.groupby('Year').agg([np.mean, np.median, sum])\n",
      "group_year.tail()"
     ],
     "language": "python",
     "metadata": {},
     "outputs": [
      {
       "html": [
        "<div style=\"max-height:1000px;max-width:1500px;overflow:auto;\">\n",
        "<table border=\"1\" class=\"dataframe\">\n",
        "  <thead>\n",
        "    <tr>\n",
        "      <th></th>\n",
        "      <th colspan=\"3\" halign=\"left\">Body count</th>\n",
        "      <th colspan=\"3\" halign=\"left\">Minutes</th>\n",
        "      <th colspan=\"3\" halign=\"left\">IMDB</th>\n",
        "      <th colspan=\"3\" halign=\"left\">Film count</th>\n",
        "      <th colspan=\"3\" halign=\"left\">Body count/min</th>\n",
        "    </tr>\n",
        "    <tr>\n",
        "      <th></th>\n",
        "      <th>mean</th>\n",
        "      <th>median</th>\n",
        "      <th>sum</th>\n",
        "      <th>mean</th>\n",
        "      <th>median</th>\n",
        "      <th>sum</th>\n",
        "      <th>mean</th>\n",
        "      <th>median</th>\n",
        "      <th>sum</th>\n",
        "      <th>mean</th>\n",
        "      <th>median</th>\n",
        "      <th>sum</th>\n",
        "      <th>mean</th>\n",
        "      <th>median</th>\n",
        "      <th>sum</th>\n",
        "    </tr>\n",
        "    <tr>\n",
        "      <th>Year</th>\n",
        "      <th></th>\n",
        "      <th></th>\n",
        "      <th></th>\n",
        "      <th></th>\n",
        "      <th></th>\n",
        "      <th></th>\n",
        "      <th></th>\n",
        "      <th></th>\n",
        "      <th></th>\n",
        "      <th></th>\n",
        "      <th></th>\n",
        "      <th></th>\n",
        "      <th></th>\n",
        "      <th></th>\n",
        "      <th></th>\n",
        "    </tr>\n",
        "  </thead>\n",
        "  <tbody>\n",
        "    <tr>\n",
        "      <th>2007</th>\n",
        "      <td>  85.312500</td>\n",
        "      <td>  45.5</td>\n",
        "      <td> 4095</td>\n",
        "      <td> 114.062500</td>\n",
        "      <td> 111.0</td>\n",
        "      <td> 5475</td>\n",
        "      <td> 6.829167</td>\n",
        "      <td> 7.00</td>\n",
        "      <td> 327.8</td>\n",
        "      <td> 1</td>\n",
        "      <td> 1</td>\n",
        "      <td> 48</td>\n",
        "      <td> 0.749838</td>\n",
        "      <td> 0.366966</td>\n",
        "      <td> 35.992220</td>\n",
        "    </tr>\n",
        "    <tr>\n",
        "      <th>2008</th>\n",
        "      <td>  68.653846</td>\n",
        "      <td>  37.0</td>\n",
        "      <td> 1785</td>\n",
        "      <td> 109.615385</td>\n",
        "      <td> 108.5</td>\n",
        "      <td> 2850</td>\n",
        "      <td> 6.573077</td>\n",
        "      <td> 6.65</td>\n",
        "      <td> 170.9</td>\n",
        "      <td> 1</td>\n",
        "      <td> 1</td>\n",
        "      <td> 26</td>\n",
        "      <td> 0.635468</td>\n",
        "      <td> 0.371208</td>\n",
        "      <td> 16.522174</td>\n",
        "    </tr>\n",
        "    <tr>\n",
        "      <th>2009</th>\n",
        "      <td>  55.000000</td>\n",
        "      <td>  59.0</td>\n",
        "      <td>  605</td>\n",
        "      <td> 112.272727</td>\n",
        "      <td> 110.0</td>\n",
        "      <td> 1235</td>\n",
        "      <td> 6.845455</td>\n",
        "      <td> 6.60</td>\n",
        "      <td>  75.3</td>\n",
        "      <td> 1</td>\n",
        "      <td> 1</td>\n",
        "      <td> 11</td>\n",
        "      <td> 0.518937</td>\n",
        "      <td> 0.385621</td>\n",
        "      <td>  5.708305</td>\n",
        "    </tr>\n",
        "    <tr>\n",
        "      <th>2010</th>\n",
        "      <td> 129.750000</td>\n",
        "      <td> 126.0</td>\n",
        "      <td>  519</td>\n",
        "      <td> 115.750000</td>\n",
        "      <td> 111.0</td>\n",
        "      <td>  463</td>\n",
        "      <td> 7.250000</td>\n",
        "      <td> 7.25</td>\n",
        "      <td>  29.0</td>\n",
        "      <td> 1</td>\n",
        "      <td> 1</td>\n",
        "      <td>  4</td>\n",
        "      <td> 1.132110</td>\n",
        "      <td> 1.005280</td>\n",
        "      <td>  4.528441</td>\n",
        "    </tr>\n",
        "    <tr>\n",
        "      <th>2013</th>\n",
        "      <td> 156.000000</td>\n",
        "      <td> 156.0</td>\n",
        "      <td>  156</td>\n",
        "      <td> 119.000000</td>\n",
        "      <td> 119.0</td>\n",
        "      <td>  119</td>\n",
        "      <td> 6.500000</td>\n",
        "      <td> 6.50</td>\n",
        "      <td>   6.5</td>\n",
        "      <td> 1</td>\n",
        "      <td> 1</td>\n",
        "      <td>  1</td>\n",
        "      <td> 1.310924</td>\n",
        "      <td> 1.310924</td>\n",
        "      <td>  1.310924</td>\n",
        "    </tr>\n",
        "  </tbody>\n",
        "</table>\n",
        "<p>5 rows \u00d7 15 columns</p>\n",
        "</div>"
       ],
       "metadata": {},
       "output_type": "pyout",
       "prompt_number": 6,
       "text": [
        "      Body count                   Minutes                    IMDB          \\\n",
        "            mean  median   sum        mean  median   sum      mean  median   \n",
        "Year                                                                         \n",
        "2007   85.312500    45.5  4095  114.062500   111.0  5475  6.829167    7.00   \n",
        "2008   68.653846    37.0  1785  109.615385   108.5  2850  6.573077    6.65   \n",
        "2009   55.000000    59.0   605  112.272727   110.0  1235  6.845455    6.60   \n",
        "2010  129.750000   126.0   519  115.750000   111.0   463  7.250000    7.25   \n",
        "2013  156.000000   156.0   156  119.000000   119.0   119  6.500000    6.50   \n",
        "\n",
        "             Film count               Body count/min                       \n",
        "        sum        mean  median  sum            mean    median        sum  \n",
        "Year                                                                       \n",
        "2007  327.8           1       1   48        0.749838  0.366966  35.992220  \n",
        "2008  170.9           1       1   26        0.635468  0.371208  16.522174  \n",
        "2009   75.3           1       1   11        0.518937  0.385621   5.708305  \n",
        "2010   29.0           1       1    4        1.132110  1.005280   4.528441  \n",
        "2013    6.5           1       1    1        1.310924  1.310924   1.310924  \n",
        "\n",
        "[5 rows x 15 columns]"
       ]
      }
     ],
     "prompt_number": 6
    },
    {
     "cell_type": "markdown",
     "metadata": {},
     "source": [
      "The `group_year` `DataFrame` now contains several columns, that are not useful, like the mean and median film count. We simply don't use them, but instead look at the film and body counts.\n",
      "\n",
      "With matplotlib's `subplots` function multiple graphs can be combined into one graphic. This allows comparing several distributions that have differing scales, as is the case for the film, total and average body counts."
     ]
    },
    {
     "cell_type": "code",
     "collapsed": false,
     "input": [
      "df_bc = pd.DataFrame({'mean': group_year['Body count']['mean'],\n",
      "                      'median': group_year['Body count']['median']})\n",
      "\n",
      "df_bc_min = pd.DataFrame({'mean': group_year['Body count/min']['mean'], \n",
      "                          'median': group_year['Body count/min']['median']})\n",
      "\n",
      "fig, axes = plt.subplots(nrows=4, ncols=1, figsize=(16, 12))\n",
      "\n",
      "group_year['Film count']['sum'].plot(kind='bar', ax=axes[0]); axes[0].set_title('Film Count')\n",
      "group_year['Body count']['sum'].plot(kind='bar', ax=axes[1]); axes[1].set_title('Total Body Count')\n",
      "df_bc.plot(kind='bar', ax=axes[2]); axes[2].set_title('Body Count by Film')\n",
      "df_bc_min.plot(kind='bar', ax=axes[3]); axes[3].set_title('Body Count by Minute')\n",
      "\n",
      "for i in range(4):\n",
      "    axes[i].set_xlabel('', visible=False)"
     ],
     "language": "python",
     "metadata": {},
     "outputs": [
      {
       "metadata": {},
       "output_type": "display_data",
       "png": "[encoded data removed]",
       "text": [
        "<matplotlib.figure.Figure at 0x7fad5001e3d0>"
       ]
      }
     ],
     "prompt_number": 7
    },
    {
     "cell_type": "markdown",
     "metadata": {},
     "source": [
      "What we can safely say is, that most films in our dataset are from 2007. What this also shows quite well is the selection bias. There is only one film reviewed for each of the years 1978 and 2013, both have a pretty high body count.\n",
      "\n",
      "## Most violent films\n",
      "\n",
      "Now lets see which films have the highest total body counts and body counts per minute. This time we plot two horizontal bar charts next to each other, again using the `subplots` function.\n",
      "\n",
      "Note that sorting is ascending by default, so we call `tail` to get the top 10 films each with the highest total body count and the highest body counts per minute. We could set `ascending` to `False` in the `sort` call and use `head`, but this would plot the highest value on the bottom. Also the y-axis labels of the right chart a printed on the right, so they don't overlap with the left one."
     ]
    },
    {
     "cell_type": "code",
     "collapsed": false,
     "input": [
      "df_film = df.set_index('Film')\n",
      "\n",
      "fig, axes = plt.subplots(nrows=1, ncols=2, figsize=(14, 8))\n",
      "\n",
      "bc = df_film.sort('Body count')['Body count'].tail(10)\n",
      "bc.plot(kind='barh', ax=axes[0], use_index=df['Film'][bc.index])\n",
      "axes[0].set_title('Total Body Count')\n",
      "\n",
      "bc_min = df_film.sort('Body count/min')['Body count/min'].tail(10)\n",
      "bc_min.plot(kind='barh', ax=axes[1], use_index=df['Film'][bc_min.index])\n",
      "axes[1].set_title('Body Count per Minute')\n",
      "axes[1].yaxis.set_ticks_position('right')\n",
      "\n",
      "for i in range(2):\n",
      "    axes[i].set_ylabel('', visible=False)"
     ],
     "language": "python",
     "metadata": {},
     "outputs": [
      {
       "ename": "ValueError",
       "evalue": "The truth value of a Series is ambiguous. Use a.empty, a.bool(), a.item(), a.any() or a.all().",
       "output_type": "pyerr",
       "traceback": [
        "\u001b[1;31m---------------------------------------------------------------------------\u001b[0m\n\u001b[1;31mValueError\u001b[0m                                Traceback (most recent call last)",
        "\u001b[1;32m<ipython-input-8-dc58c3dfe70e>\u001b[0m in \u001b[0;36m<module>\u001b[1;34m()\u001b[0m\n\u001b[0;32m      4\u001b[0m \u001b[1;33m\u001b[0m\u001b[0m\n\u001b[0;32m      5\u001b[0m \u001b[0mbc\u001b[0m \u001b[1;33m=\u001b[0m \u001b[0mdf_film\u001b[0m\u001b[1;33m.\u001b[0m\u001b[0msort\u001b[0m\u001b[1;33m(\u001b[0m\u001b[1;34m'Body count'\u001b[0m\u001b[1;33m)\u001b[0m\u001b[1;33m[\u001b[0m\u001b[1;34m'Body count'\u001b[0m\u001b[1;33m]\u001b[0m\u001b[1;33m.\u001b[0m\u001b[0mtail\u001b[0m\u001b[1;33m(\u001b[0m\u001b[1;36m10\u001b[0m\u001b[1;33m)\u001b[0m\u001b[1;33m\u001b[0m\u001b[0m\n\u001b[1;32m----> 6\u001b[1;33m \u001b[0mbc\u001b[0m\u001b[1;33m.\u001b[0m\u001b[0mplot\u001b[0m\u001b[1;33m(\u001b[0m\u001b[0mkind\u001b[0m\u001b[1;33m=\u001b[0m\u001b[1;34m'barh'\u001b[0m\u001b[1;33m,\u001b[0m \u001b[0max\u001b[0m\u001b[1;33m=\u001b[0m\u001b[0maxes\u001b[0m\u001b[1;33m[\u001b[0m\u001b[1;36m0\u001b[0m\u001b[1;33m]\u001b[0m\u001b[1;33m,\u001b[0m \u001b[0muse_index\u001b[0m\u001b[1;33m=\u001b[0m\u001b[0mdf\u001b[0m\u001b[1;33m[\u001b[0m\u001b[1;34m'Film'\u001b[0m\u001b[1;33m]\u001b[0m\u001b[1;33m[\u001b[0m\u001b[0mbc\u001b[0m\u001b[1;33m.\u001b[0m\u001b[0mindex\u001b[0m\u001b[1;33m]\u001b[0m\u001b[1;33m)\u001b[0m\u001b[1;33m\u001b[0m\u001b[0m\n\u001b[0m\u001b[0;32m      7\u001b[0m \u001b[0maxes\u001b[0m\u001b[1;33m[\u001b[0m\u001b[1;36m0\u001b[0m\u001b[1;33m]\u001b[0m\u001b[1;33m.\u001b[0m\u001b[0mset_title\u001b[0m\u001b[1;33m(\u001b[0m\u001b[1;34m'Total Body Count'\u001b[0m\u001b[1;33m)\u001b[0m\u001b[1;33m\u001b[0m\u001b[0m\n\u001b[0;32m      8\u001b[0m \u001b[1;33m\u001b[0m\u001b[0m\n",
        "\u001b[1;32m/home/ramiro/anaconda/envs/datamining/lib/python3.3/site-packages/pandas/tools/plotting.py\u001b[0m in \u001b[0;36mplot_series\u001b[1;34m(series, label, kind, use_index, rot, xticks, yticks, xlim, ylim, ax, style, grid, legend, logx, logy, secondary_y, **kwds)\u001b[0m\n\u001b[0;32m   1827\u001b[0m                      secondary_y=secondary_y, **kwds)\n\u001b[0;32m   1828\u001b[0m \u001b[1;33m\u001b[0m\u001b[0m\n\u001b[1;32m-> 1829\u001b[1;33m     \u001b[0mplot_obj\u001b[0m\u001b[1;33m.\u001b[0m\u001b[0mgenerate\u001b[0m\u001b[1;33m(\u001b[0m\u001b[1;33m)\u001b[0m\u001b[1;33m\u001b[0m\u001b[0m\n\u001b[0m\u001b[0;32m   1830\u001b[0m     \u001b[0mplot_obj\u001b[0m\u001b[1;33m.\u001b[0m\u001b[0mdraw\u001b[0m\u001b[1;33m(\u001b[0m\u001b[1;33m)\u001b[0m\u001b[1;33m\u001b[0m\u001b[0m\n\u001b[0;32m   1831\u001b[0m \u001b[1;33m\u001b[0m\u001b[0m\n",
        "\u001b[1;32m/home/ramiro/anaconda/envs/datamining/lib/python3.3/site-packages/pandas/tools/plotting.py\u001b[0m in \u001b[0;36mgenerate\u001b[1;34m(self)\u001b[0m\n\u001b[0;32m    904\u001b[0m         \u001b[0mself\u001b[0m\u001b[1;33m.\u001b[0m\u001b[0m_setup_subplots\u001b[0m\u001b[1;33m(\u001b[0m\u001b[1;33m)\u001b[0m\u001b[1;33m\u001b[0m\u001b[0m\n\u001b[0;32m    905\u001b[0m         \u001b[0mself\u001b[0m\u001b[1;33m.\u001b[0m\u001b[0m_make_plot\u001b[0m\u001b[1;33m(\u001b[0m\u001b[1;33m)\u001b[0m\u001b[1;33m\u001b[0m\u001b[0m\n\u001b[1;32m--> 906\u001b[1;33m         \u001b[0mself\u001b[0m\u001b[1;33m.\u001b[0m\u001b[0m_post_plot_logic\u001b[0m\u001b[1;33m(\u001b[0m\u001b[1;33m)\u001b[0m\u001b[1;33m\u001b[0m\u001b[0m\n\u001b[0m\u001b[0;32m    907\u001b[0m         \u001b[0mself\u001b[0m\u001b[1;33m.\u001b[0m\u001b[0m_adorn_subplots\u001b[0m\u001b[1;33m(\u001b[0m\u001b[1;33m)\u001b[0m\u001b[1;33m\u001b[0m\u001b[0m\n\u001b[0;32m    908\u001b[0m \u001b[1;33m\u001b[0m\u001b[0m\n",
        "\u001b[1;32m/home/ramiro/anaconda/envs/datamining/lib/python3.3/site-packages/pandas/tools/plotting.py\u001b[0m in \u001b[0;36m_post_plot_logic\u001b[1;34m(self)\u001b[0m\n\u001b[0;32m   1573\u001b[0m     \u001b[1;32mdef\u001b[0m \u001b[0m_post_plot_logic\u001b[0m\u001b[1;33m(\u001b[0m\u001b[0mself\u001b[0m\u001b[1;33m)\u001b[0m\u001b[1;33m:\u001b[0m\u001b[1;33m\u001b[0m\u001b[0m\n\u001b[0;32m   1574\u001b[0m         \u001b[1;32mfor\u001b[0m \u001b[0max\u001b[0m \u001b[1;32min\u001b[0m \u001b[0mself\u001b[0m\u001b[1;33m.\u001b[0m\u001b[0maxes\u001b[0m\u001b[1;33m:\u001b[0m\u001b[1;33m\u001b[0m\u001b[0m\n\u001b[1;32m-> 1575\u001b[1;33m             \u001b[1;32mif\u001b[0m \u001b[0mself\u001b[0m\u001b[1;33m.\u001b[0m\u001b[0muse_index\u001b[0m\u001b[1;33m:\u001b[0m\u001b[1;33m\u001b[0m\u001b[0m\n\u001b[0m\u001b[0;32m   1576\u001b[0m                 \u001b[0mstr_index\u001b[0m \u001b[1;33m=\u001b[0m \u001b[1;33m[\u001b[0m\u001b[0mcom\u001b[0m\u001b[1;33m.\u001b[0m\u001b[0mpprint_thing\u001b[0m\u001b[1;33m(\u001b[0m\u001b[0mkey\u001b[0m\u001b[1;33m)\u001b[0m \u001b[1;32mfor\u001b[0m \u001b[0mkey\u001b[0m \u001b[1;32min\u001b[0m \u001b[0mself\u001b[0m\u001b[1;33m.\u001b[0m\u001b[0mdata\u001b[0m\u001b[1;33m.\u001b[0m\u001b[0mindex\u001b[0m\u001b[1;33m]\u001b[0m\u001b[1;33m\u001b[0m\u001b[0m\n\u001b[0;32m   1577\u001b[0m             \u001b[1;32melse\u001b[0m\u001b[1;33m:\u001b[0m\u001b[1;33m\u001b[0m\u001b[0m\n",
        "\u001b[1;32m/home/ramiro/anaconda/envs/datamining/lib/python3.3/site-packages/pandas/core/generic.py\u001b[0m in \u001b[0;36m__nonzero__\u001b[1;34m(self)\u001b[0m\n\u001b[0;32m    674\u001b[0m         raise ValueError(\"The truth value of a {0} is ambiguous. \"\n\u001b[0;32m    675\u001b[0m                          \u001b[1;34m\"Use a.empty, a.bool(), a.item(), a.any() or a.all().\"\u001b[0m\u001b[1;33m\u001b[0m\u001b[0m\n\u001b[1;32m--> 676\u001b[1;33m                          .format(self.__class__.__name__))\n\u001b[0m\u001b[0;32m    677\u001b[0m \u001b[1;33m\u001b[0m\u001b[0m\n\u001b[0;32m    678\u001b[0m     \u001b[0m__bool__\u001b[0m \u001b[1;33m=\u001b[0m \u001b[0m__nonzero__\u001b[0m\u001b[1;33m\u001b[0m\u001b[0m\n",
        "\u001b[1;31mValueError\u001b[0m: The truth value of a Series is ambiguous. Use a.empty, a.bool(), a.item(), a.any() or a.all()."
       ]
      },
      {
       "metadata": {},
       "output_type": "display_data",
       "png": "[encoded data removed]",
       "text": [
        "<matplotlib.figure.Figure at 0x7fad4fff2d50>"
       ]
      }
     ],
     "prompt_number": 8
    },
    {
     "cell_type": "markdown",
     "metadata": {},
     "source": [
      "There is a considerable gap between **Lord of the Rings** and the runner-up **Kingdom of Heaven** in the left chart, but when you take runtime into account, the later is slightly more violent. Both of them are surpassed by **300** when one looks at deaths by minute, which shouldn't surprise anyone who saw it. Below you can see why."
     ]
    },
    {
     "cell_type": "code",
     "collapsed": false,
     "input": [
      "from IPython.display import YouTubeVideo\n",
      "YouTubeVideo('HdNn5TZu6R8', width=800, height=450)"
     ],
     "language": "python",
     "metadata": {},
     "outputs": []
    },
    {
     "cell_type": "markdown",
     "metadata": {},
     "source": [
      "## Most violent directors\n",
      "\n",
      "Now let's look at directors. As you may have noticed above the `Genre` column can contain multiple values separated by `|` characters. This also applies to the `Director` column, here are some examples.\n",
      "\n"
     ]
    },
    {
     "cell_type": "code",
     "collapsed": false,
     "input": [
      "df[df['Director'].apply(lambda x: -1 != x.find('|'))].head()"
     ],
     "language": "python",
     "metadata": {},
     "outputs": []
    },
    {
     "cell_type": "markdown",
     "metadata": {},
     "source": [
      "Since I want to group by directors later, I have to decide what to do with these multi-value instances. So what I'll do is create a new data frame with one new row for a single director and multiple new rows with the same count values for films that have more than one director. I also considered dividing the body counts by the number of directors, but decided against it.\n",
      "\n",
      "The following function does this. I feel that there is a more elegant way with pandas, but it works for arbitrary columns."
     ]
    },
    {
     "cell_type": "code",
     "collapsed": false,
     "input": [
      "def expand_col(df_src, col, sep='|'):\n",
      "    di = {}\n",
      "    idx = 0\n",
      "    for i in df_src.iterrows():\n",
      "        d = i[1]\n",
      "        names = d[col].split(sep)\n",
      "        for name in names:\n",
      "            # operate on a copy to not overwrite previous director names\n",
      "            c = d.copy()\n",
      "            c[col] = name\n",
      "            di[idx] = c\n",
      "            idx += 1\n",
      "\n",
      "    df_new = pd.DataFrame(di).transpose()\n",
      "    # these two columns are not recognized as numeric\n",
      "    df_new['Body count'] = df_new['Body count'].astype(float)\n",
      "    df_new['Body count/min'] = df_new['Body count/min'].astype(float)\n",
      "    \n",
      "    return df_new"
     ],
     "language": "python",
     "metadata": {},
     "outputs": []
    },
    {
     "cell_type": "markdown",
     "metadata": {},
     "source": [
      "Now similar to the film ranking let's plot a director ranking."
     ]
    },
    {
     "cell_type": "code",
     "collapsed": false,
     "input": [
      "df_dir = expand_col(df, 'Director')\n",
      "\n",
      "fig, axes = plt.subplots(nrows=1, ncols=2, figsize=(14, 8))\n",
      "\n",
      "bc_sum = df_dir.groupby('Director').sum().sort('Body count').tail(10)\n",
      "bc_sum['Body count'].plot(kind='barh', ax=axes[0])\n",
      "axes[0].set_title('Total Body Count')\n",
      "\n",
      "bc_mean = df_dir.groupby('Director').agg(np.mean).sort('Body count/min').tail(10)\n",
      "bc_mean['Body count/min'].plot(kind='barh', ax=axes[1])\n",
      "axes[1].set_title('Body Count per Minute')\n",
      "axes[1].yaxis.set_ticks_position('right')\n",
      "\n",
      "for i in range(2):\n",
      "    axes[i].set_ylabel('', visible=False)"
     ],
     "language": "python",
     "metadata": {},
     "outputs": []
    },
    {
     "cell_type": "markdown",
     "metadata": {},
     "source": [
      "## Body counts in film genres\n",
      "\n",
      "As mentioned above `Genre` is a multi-value column too. So let's create a new data frame again, where each film can account for multiple genres and look at the frequency distribution of films by genre."
     ]
    },
    {
     "cell_type": "code",
     "collapsed": false,
     "input": [
      "df_genre = expand_col(df, 'Genre')\n",
      "df_genre['Genre'].value_counts().plot(kind='bar', figsize=(12, 6), title='Genres by film count')\n",
      "plt.show()"
     ],
     "language": "python",
     "metadata": {},
     "outputs": []
    },
    {
     "cell_type": "markdown",
     "metadata": {},
     "source": [
      "Looking at the total body counts for genres doesn't make much sense since some genres occur much more frequently, instead let's see genres by body counts per minute."
     ]
    },
    {
     "cell_type": "code",
     "collapsed": false,
     "input": [
      "bc_mean = df_genre.groupby('Genre').agg(np.mean).sort('Body count/min', ascending=False)\n",
      "bc_mean['Body count/min'].plot(kind='bar', figsize=(12, 6), title='Genres by body count per minute')\n",
      "plt.show()"
     ],
     "language": "python",
     "metadata": {},
     "outputs": []
    },
    {
     "cell_type": "markdown",
     "metadata": {},
     "source": [
      "Not a huge surprise to see war movies on top, and since many of them are also classified as history movies this genre comes in 2nd place. Also several of the most deadly films are counted in these two genres, see some examples below."
     ]
    },
    {
     "cell_type": "code",
     "collapsed": false,
     "input": [
      "df_genre[(df_genre['Genre'] == 'War') | (df_genre['Genre'] == 'History')].sort('Body count/min', ascending=False).head(20)"
     ],
     "language": "python",
     "metadata": {},
     "outputs": []
    },
    {
     "cell_type": "markdown",
     "metadata": {},
     "source": [
      "## MPAA and IMDB Ratings\n",
      "\n",
      "Finally let's look at the MPAA and IMDB ratings and how they relate to the movie body counts by creating two scatter plots.\n",
      "\n",
      "Since MPAA ratings are not numeric, their values need to be mapped to numbers in some way to produce a scatter plot. We can use the `value_counts` method to get a sorted series of different MPPA ratings and their counts."
     ]
    },
    {
     "cell_type": "code",
     "collapsed": false,
     "input": [
      "ratings = df['MPAA'].value_counts()\n",
      "ratings"
     ],
     "language": "python",
     "metadata": {},
     "outputs": []
    },
    {
     "cell_type": "markdown",
     "metadata": {},
     "source": [
      "Next the different rating names are used as keys of a dictionary mapped to a list of integers of the same length. This dictionary is then used to map the different rating values of the MPAA column to the corresponding integers."
     ]
    },
    {
     "cell_type": "code",
     "collapsed": false,
     "input": [
      "rating_names = ratings.index\n",
      "rating_index = range(len(rating_names))\n",
      "rating_map = dict(zip(rating_names, rating_index))\n",
      "mpaa = df['MPAA'].apply(lambda x: rating_map[x])"
     ],
     "language": "python",
     "metadata": {},
     "outputs": []
    },
    {
     "cell_type": "markdown",
     "metadata": {},
     "source": [
      "Now we can create a scatter plot with the following few lines of code, where the MPAA ratings are show on the x-axis, the body counts per minute on the y-axis and the circle sizes are determined by the total body counts of the movies."
     ]
    },
    {
     "cell_type": "code",
     "collapsed": false,
     "input": [
      "fig, ax = plt.subplots(figsize=(14, 10))\n",
      "ax.scatter(mpaa, df['Body count/min'], s=df['Body count'], alpha=.5)\n",
      "ax.set_title('Body counts and MPAA ratings')\n",
      "ax.set_xlabel('MPAA Rating')\n",
      "ax.set_xticks(rating_index)\n",
      "ax.set_xticklabels(rating_names)\n",
      "ax.set_ylabel('Body count per minute')\n",
      "plt.show()"
     ],
     "language": "python",
     "metadata": {},
     "outputs": []
    },
    {
     "cell_type": "markdown",
     "metadata": {},
     "source": [
      "One of the things this diagram shows is that the film with highest body count and also a pretty high body count/min is rated PG-13. Looking back at the film rankings above, we know that it is **Lord of the Rings: Return of the King**, but wouldn't it be nice to have labels for at least some of the circles? Yes, so annotating graphs will be demonstrated in the next scatter plot, which shows body counts and IMDB ratings.\n",
      "\n",
      "To not mess up the graph, only the 3 movies with the highest body count will be labeled. They go into a list of lists called `annotations`, where the inner lists are made up of the label text and the x and the y positions of the labels. Then after setting up the basic plot the annotations are added to it in a loop. The label positions can be adjusted with the `xytext`, `textcoords`, `ha`, and `va` arguments to the `annotate` method. "
     ]
    },
    {
     "cell_type": "code",
     "collapsed": false,
     "input": [
      "bc_top = df.sort('Body count', ascending=False)[:3]\n",
      "annotations = []\n",
      "for r in bc_top.iterrows():\n",
      "    annotations.append([r[1]['Film'], r[1]['IMDB'], r[1]['Body count/min']])\n",
      "\n",
      "fig, ax = plt.subplots(figsize=(14, 10))\n",
      "ax.scatter(df['IMDB'], df['Body count/min'], s=df['Body count'], alpha=.5)\n",
      "ax.set_title('Body count and IMDB ratings')\n",
      "ax.set_xlabel('IMDB Rating')\n",
      "ax.set_ylabel('Body count per minute')\n",
      "\n",
      "for annotation, x, y in annotations:\n",
      "    plt.annotate(\n",
      "        annotation,\n",
      "        xy=(x, y),\n",
      "        xytext=(0, 30),\n",
      "        textcoords='offset points',\n",
      "        ha='center',\n",
      "        va='bottom',\n",
      "        bbox=dict(boxstyle='round,pad=0.5', fc='yellow', alpha=0.5),\n",
      "        arrowprops=dict(arrowstyle='-'))\n",
      "plt.show()"
     ],
     "language": "python",
     "metadata": {},
     "outputs": []
    },
    {
     "cell_type": "markdown",
     "metadata": {},
     "source": [
      "## Summary\n",
      "\n",
      "This notebook demonstrates some of the basic features of pandas, NumPy and matplotlib for processing, exploring and visualizing data.\n",
      "\n",
      "Due to the dataset's limitations mentioned in the introduction, I refrained from interpreting the results too much. The focus of this notebook is how you can use these tools to get to know a dataset. They offer many more possibilities and advanced features are all free and open source. I can only recommend using them and will certainly keep on doing so myself.\n",
      "\n",
      "[CC BY-NC](http://creativecommons.org/licenses/by-nc/4.0/) 2014 [Ramiro G\u00f3mez](http://ramiro.org/)."
     ]
    }
   ],
   "metadata": {}
  }
 ]
}