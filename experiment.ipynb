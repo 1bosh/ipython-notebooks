{
 "cells": [
  {
   "cell_type": "markdown",
   "metadata": {},
   "source": [
    "Recently [Simon Garier]() created [several visualisations]() from a [football dataset](https://github.com/jalapic/engsoccerdata) compiled by [James Curley]() showing statistics on match performances in the English Premier League."
   ]
  },
  {
   "cell_type": "code",
   "execution_count": 572,
   "metadata": {
    "collapsed": false
   },
   "outputs": [],
   "source": [
    "%matplotlib inline\n",
    "\n",
    "import pandas as pd\n",
    "import matplotlib.pyplot as plt\n",
    "import matplotlib.patches as mpatches\n",
    "import numpy as np\n",
    "\n",
    "plt.style.use('ramiro')\n",
    "\n",
    "df = pd.read_csv('csv/bundesliga.csv', parse_dates=['date'], encoding='latin-1')\n",
    "\n",
    "chartinfo = 'Author: Ramiro Gómez - ramiro.org • Data: James Curley - github.com/jalapic/engsoccerdata'\n",
    "infosize = 13"
   ]
  },
  {
   "cell_type": "code",
   "execution_count": 531,
   "metadata": {
    "collapsed": false
   },
   "outputs": [
    {
     "name": "stdout",
     "output_type": "stream",
     "text": [
      "Index(['date', 'Season', 'home', 'visitor', 'FT', 'hgoal', 'vgoal', 'tier'], dtype='object')\n"
     ]
    },
    {
     "data": {
      "text/html": [
       "<div>\n",
       "<table border=\"1\" class=\"dataframe\">\n",
       "  <thead>\n",
       "    <tr style=\"text-align: right;\">\n",
       "      <th></th>\n",
       "      <th>Season</th>\n",
       "      <th>hgoal</th>\n",
       "      <th>vgoal</th>\n",
       "      <th>tier</th>\n",
       "    </tr>\n",
       "  </thead>\n",
       "  <tbody>\n",
       "    <tr>\n",
       "      <th>count</th>\n",
       "      <td>15508.000000</td>\n",
       "      <td>15508.000000</td>\n",
       "      <td>15508.000000</td>\n",
       "      <td>15508</td>\n",
       "    </tr>\n",
       "    <tr>\n",
       "      <th>mean</th>\n",
       "      <td>1988.215115</td>\n",
       "      <td>1.872517</td>\n",
       "      <td>1.202863</td>\n",
       "      <td>1</td>\n",
       "    </tr>\n",
       "    <tr>\n",
       "      <th>std</th>\n",
       "      <td>14.591496</td>\n",
       "      <td>1.459254</td>\n",
       "      <td>1.162654</td>\n",
       "      <td>0</td>\n",
       "    </tr>\n",
       "    <tr>\n",
       "      <th>min</th>\n",
       "      <td>1963.000000</td>\n",
       "      <td>0.000000</td>\n",
       "      <td>0.000000</td>\n",
       "      <td>1</td>\n",
       "    </tr>\n",
       "    <tr>\n",
       "      <th>25%</th>\n",
       "      <td>1976.000000</td>\n",
       "      <td>1.000000</td>\n",
       "      <td>0.000000</td>\n",
       "      <td>1</td>\n",
       "    </tr>\n",
       "    <tr>\n",
       "      <th>50%</th>\n",
       "      <td>1988.000000</td>\n",
       "      <td>2.000000</td>\n",
       "      <td>1.000000</td>\n",
       "      <td>1</td>\n",
       "    </tr>\n",
       "    <tr>\n",
       "      <th>75%</th>\n",
       "      <td>2001.000000</td>\n",
       "      <td>3.000000</td>\n",
       "      <td>2.000000</td>\n",
       "      <td>1</td>\n",
       "    </tr>\n",
       "    <tr>\n",
       "      <th>max</th>\n",
       "      <td>2013.000000</td>\n",
       "      <td>12.000000</td>\n",
       "      <td>9.000000</td>\n",
       "      <td>1</td>\n",
       "    </tr>\n",
       "  </tbody>\n",
       "</table>\n",
       "</div>"
      ],
      "text/plain": [
       "             Season         hgoal         vgoal   tier\n",
       "count  15508.000000  15508.000000  15508.000000  15508\n",
       "mean    1988.215115      1.872517      1.202863      1\n",
       "std       14.591496      1.459254      1.162654      0\n",
       "min     1963.000000      0.000000      0.000000      1\n",
       "25%     1976.000000      1.000000      0.000000      1\n",
       "50%     1988.000000      2.000000      1.000000      1\n",
       "75%     2001.000000      3.000000      2.000000      1\n",
       "max     2013.000000     12.000000      9.000000      1"
      ]
     },
     "execution_count": 531,
     "metadata": {},
     "output_type": "execute_result"
    }
   ],
   "source": [
    "print(df.columns)\n",
    "df.describe()"
   ]
  },
  {
   "cell_type": "code",
   "execution_count": 583,
   "metadata": {
    "collapsed": false
   },
   "outputs": [
    {
     "data": {
      "text/html": [
       "<div>\n",
       "<table border=\"1\" class=\"dataframe\">\n",
       "  <thead>\n",
       "    <tr style=\"text-align: right;\">\n",
       "      <th></th>\n",
       "      <th>date</th>\n",
       "      <th>Season</th>\n",
       "      <th>home</th>\n",
       "      <th>visitor</th>\n",
       "      <th>FT</th>\n",
       "      <th>hgoal</th>\n",
       "      <th>vgoal</th>\n",
       "      <th>tier</th>\n",
       "    </tr>\n",
       "  </thead>\n",
       "  <tbody>\n",
       "    <tr>\n",
       "      <th>14584</th>\n",
       "      <td>2014-05-10</td>\n",
       "      <td>2013</td>\n",
       "      <td>Bayer Leverkusen</td>\n",
       "      <td>Werder Bremen</td>\n",
       "      <td>2-1</td>\n",
       "      <td>2</td>\n",
       "      <td>1</td>\n",
       "      <td>1</td>\n",
       "    </tr>\n",
       "    <tr>\n",
       "      <th>14583</th>\n",
       "      <td>2014-05-10</td>\n",
       "      <td>2013</td>\n",
       "      <td>Bayern München</td>\n",
       "      <td>VfB Stuttgart</td>\n",
       "      <td>1-0</td>\n",
       "      <td>1</td>\n",
       "      <td>0</td>\n",
       "      <td>1</td>\n",
       "    </tr>\n",
       "    <tr>\n",
       "      <th>14582</th>\n",
       "      <td>2014-05-10</td>\n",
       "      <td>2013</td>\n",
       "      <td>VfL Wolfsburg</td>\n",
       "      <td>Bor. Mönchengladbach</td>\n",
       "      <td>3-1</td>\n",
       "      <td>3</td>\n",
       "      <td>1</td>\n",
       "      <td>1</td>\n",
       "    </tr>\n",
       "    <tr>\n",
       "      <th>14585</th>\n",
       "      <td>2014-05-10</td>\n",
       "      <td>2013</td>\n",
       "      <td>FC Schalke 04</td>\n",
       "      <td>1. FC Nürnberg</td>\n",
       "      <td>4-1</td>\n",
       "      <td>4</td>\n",
       "      <td>1</td>\n",
       "      <td>1</td>\n",
       "    </tr>\n",
       "    <tr>\n",
       "      <th>14589</th>\n",
       "      <td>2014-05-10</td>\n",
       "      <td>2013</td>\n",
       "      <td>FC Augsburg</td>\n",
       "      <td>Eintracht Frankfurt</td>\n",
       "      <td>2-1</td>\n",
       "      <td>2</td>\n",
       "      <td>1</td>\n",
       "      <td>1</td>\n",
       "    </tr>\n",
       "  </tbody>\n",
       "</table>\n",
       "</div>"
      ],
      "text/plain": [
       "            date  Season              home               visitor   FT  hgoal  \\\n",
       "14584 2014-05-10    2013  Bayer Leverkusen         Werder Bremen  2-1      2   \n",
       "14583 2014-05-10    2013    Bayern München         VfB Stuttgart  1-0      1   \n",
       "14582 2014-05-10    2013     VfL Wolfsburg  Bor. Mönchengladbach  3-1      3   \n",
       "14585 2014-05-10    2013     FC Schalke 04        1. FC Nürnberg  4-1      4   \n",
       "14589 2014-05-10    2013       FC Augsburg   Eintracht Frankfurt  2-1      2   \n",
       "\n",
       "       vgoal  tier  \n",
       "14584      1     1  \n",
       "14583      0     1  \n",
       "14582      1     1  \n",
       "14585      1     1  \n",
       "14589      1     1  "
      ]
     },
     "execution_count": 583,
     "metadata": {},
     "output_type": "execute_result"
    }
   ],
   "source": [
    "df.sort('date').tail()"
   ]
  },
  {
   "cell_type": "code",
   "execution_count": 534,
   "metadata": {
    "collapsed": false
   },
   "outputs": [],
   "source": [
    "def result(row):\n",
    "    if row.hgoal > row.vgoal:\n",
    "        return 'Home win'\n",
    "    elif row.hgoal < row.vgoal:\n",
    "        return 'Home loss'\n",
    "    return 'Tie'\n",
    "\n",
    "df['resulttype'] = df.apply(result, axis=1)"
   ]
  },
  {
   "cell_type": "code",
   "execution_count": 539,
   "metadata": {
    "collapsed": false
   },
   "outputs": [],
   "source": [
    "resulttypes_by_season = df.groupby(['Season', 'resulttype']).agg(['count'])['date']"
   ]
  },
  {
   "cell_type": "code",
   "execution_count": 540,
   "metadata": {
    "collapsed": false
   },
   "outputs": [
    {
     "data": {
      "text/html": [
       "<div>\n",
       "<table border=\"1\" class=\"dataframe\">\n",
       "  <thead>\n",
       "    <tr>\n",
       "      <th></th>\n",
       "      <th colspan=\"3\" halign=\"left\">count</th>\n",
       "    </tr>\n",
       "    <tr>\n",
       "      <th>resulttype</th>\n",
       "      <th>Home loss</th>\n",
       "      <th>Home win</th>\n",
       "      <th>Tie</th>\n",
       "    </tr>\n",
       "    <tr>\n",
       "      <th>Season</th>\n",
       "      <th></th>\n",
       "      <th></th>\n",
       "      <th></th>\n",
       "    </tr>\n",
       "  </thead>\n",
       "  <tbody>\n",
       "    <tr>\n",
       "      <th>1963</th>\n",
       "      <td>53</td>\n",
       "      <td>126</td>\n",
       "      <td>61</td>\n",
       "    </tr>\n",
       "    <tr>\n",
       "      <th>1964</th>\n",
       "      <td>56</td>\n",
       "      <td>122</td>\n",
       "      <td>62</td>\n",
       "    </tr>\n",
       "    <tr>\n",
       "      <th>1965</th>\n",
       "      <td>70</td>\n",
       "      <td>168</td>\n",
       "      <td>68</td>\n",
       "    </tr>\n",
       "    <tr>\n",
       "      <th>1966</th>\n",
       "      <td>64</td>\n",
       "      <td>158</td>\n",
       "      <td>84</td>\n",
       "    </tr>\n",
       "    <tr>\n",
       "      <th>1967</th>\n",
       "      <td>66</td>\n",
       "      <td>167</td>\n",
       "      <td>73</td>\n",
       "    </tr>\n",
       "  </tbody>\n",
       "</table>\n",
       "</div>"
      ],
      "text/plain": [
       "               count             \n",
       "resulttype Home loss Home win Tie\n",
       "Season                           \n",
       "1963              53      126  61\n",
       "1964              56      122  62\n",
       "1965              70      168  68\n",
       "1966              64      158  84\n",
       "1967              66      167  73"
      ]
     },
     "execution_count": 540,
     "metadata": {},
     "output_type": "execute_result"
    }
   ],
   "source": [
    "#resulttypes_by_season.plot(kind='bar', stacked=True, figsize=(14, 6))\n",
    "df_rs = resulttypes_by_season.unstack()\n",
    "df_rs.head()"
   ]
  },
  {
   "cell_type": "code",
   "execution_count": 541,
   "metadata": {
    "collapsed": false
   },
   "outputs": [
    {
     "data": {
      "text/html": [
       "<div>\n",
       "<table border=\"1\" class=\"dataframe\">\n",
       "  <thead>\n",
       "    <tr>\n",
       "      <th></th>\n",
       "      <th colspan=\"3\" halign=\"left\">count</th>\n",
       "    </tr>\n",
       "    <tr>\n",
       "      <th>resulttype</th>\n",
       "      <th>Home loss</th>\n",
       "      <th>Home win</th>\n",
       "      <th>Tie</th>\n",
       "    </tr>\n",
       "    <tr>\n",
       "      <th>Season</th>\n",
       "      <th></th>\n",
       "      <th></th>\n",
       "      <th></th>\n",
       "    </tr>\n",
       "  </thead>\n",
       "  <tbody>\n",
       "    <tr>\n",
       "      <th>1963</th>\n",
       "      <td>22.083333</td>\n",
       "      <td>52.500000</td>\n",
       "      <td>25.416667</td>\n",
       "    </tr>\n",
       "    <tr>\n",
       "      <th>1964</th>\n",
       "      <td>23.333333</td>\n",
       "      <td>50.833333</td>\n",
       "      <td>25.833333</td>\n",
       "    </tr>\n",
       "    <tr>\n",
       "      <th>1965</th>\n",
       "      <td>22.875817</td>\n",
       "      <td>54.901961</td>\n",
       "      <td>22.222222</td>\n",
       "    </tr>\n",
       "    <tr>\n",
       "      <th>1966</th>\n",
       "      <td>20.915033</td>\n",
       "      <td>51.633987</td>\n",
       "      <td>27.450980</td>\n",
       "    </tr>\n",
       "    <tr>\n",
       "      <th>1967</th>\n",
       "      <td>21.568627</td>\n",
       "      <td>54.575163</td>\n",
       "      <td>23.856209</td>\n",
       "    </tr>\n",
       "  </tbody>\n",
       "</table>\n",
       "</div>"
      ],
      "text/plain": [
       "                count                      \n",
       "resulttype  Home loss   Home win        Tie\n",
       "Season                                     \n",
       "1963        22.083333  52.500000  25.416667\n",
       "1964        23.333333  50.833333  25.833333\n",
       "1965        22.875817  54.901961  22.222222\n",
       "1966        20.915033  51.633987  27.450980\n",
       "1967        21.568627  54.575163  23.856209"
      ]
     },
     "execution_count": 541,
     "metadata": {},
     "output_type": "execute_result"
    }
   ],
   "source": [
    "df_rs = df_rs.apply(lambda x: 100 * x / float(x.sum()), axis=1)\n",
    "df_rs.head()"
   ]
  },
  {
   "cell_type": "code",
   "execution_count": 542,
   "metadata": {
    "collapsed": false
   },
   "outputs": [
    {
     "data": {
      "image/png": "[encoded data removed]",
      "text/plain": [
       "<matplotlib.figure.Figure at 0x7f9c8577b6d0>"
      ]
     },
     "metadata": {},
     "output_type": "display_data"
    }
   ],
   "source": [
    "s1 = df_rs['count']['Home win']\n",
    "s2 = df_rs['count']['Home loss']\n",
    "s3 = df_rs['count']['Tie']\n",
    "\n",
    "xmax = df_rs.index.max()\n",
    "xmin = df_rs.index.min()\n",
    "\n",
    "fig, ax = plt.subplots(figsize=(15, 5))\n",
    "\n",
    "ax.stackplot(df_rs.index, [s1, s2, s3], colors=['b', 'g', 'y'], baseline='zero')\n",
    "ax.set_xlim(xmin, xmax)\n",
    "ax.set_ylim(0, 100)\n",
    "\n",
    "p1 = mpatches.Patch(color='b', label='Home win')\n",
    "p2 = mpatches.Patch(color='g', label='Home loss')\n",
    "p3 = mpatches.Patch(color='y', label='Tie')\n",
    "\n",
    "plt.legend(loc=(.9, 1), handles=[p1, p2, p3])\n",
    "\n",
    "plt.annotate(\n",
    "    'Three points for a win',\n",
    "    xy=(1995, 100), \n",
    "    arrowprops=dict(arrowstyle='-'),\n",
    "    ha='center',\n",
    "    va='bottom',\n",
    "    size=12.5,\n",
    "    bbox=dict(boxstyle='round,pad=0.5', fc='yellow', alpha=0.5))\n",
    "\n",
    "plt.show()\n"
   ]
  },
  {
   "cell_type": "code",
   "execution_count": 584,
   "metadata": {
    "collapsed": false
   },
   "outputs": [
    {
     "data": {
      "text/plain": [
       "<matplotlib.text.Annotation at 0x7f9c7e52b410>"
      ]
     },
     "execution_count": 584,
     "metadata": {},
     "output_type": "execute_result"
    },
    {
     "data": {
      "image/png": "[encoded data removed]",
      "text/plain": [
       "<matplotlib.figure.Figure at 0x7f9c7f7bc050>"
      ]
     },
     "metadata": {},
     "output_type": "display_data"
    }
   ],
   "source": [
    "colors = ['#993300', '#003366', '#99cc99']\n",
    "\n",
    "title = 'Home wins, home losses and ties in the Bundesliga seasons from {} to {} in percent'.format(xmin, xmax)\n",
    "ax = df_rs.plot(kind='bar', stacked=True, figsize=(16, 6), color=colors, title=title, fontsize=14)\n",
    "ax.set_ylim([0, 100])\n",
    "ax.set_xlabel('', visible=False)\n",
    "\n",
    "p1 = mpatches.Patch(color=colors[0], label='Home loss')\n",
    "p2 = mpatches.Patch(color=colors[1], label='Home win')\n",
    "p3 = mpatches.Patch(color=colors[2], label='Tie')\n",
    "\n",
    "ax.legend(loc=(.69, -.2), handles=[p1, p2, p3], ncol=3, fontsize=13)\n",
    "ax.annotate(chartinfo, xy=(0, -1.18), xycoords='axes fraction', fontsize=infosize)"
   ]
  },
  {
   "cell_type": "markdown",
   "metadata": {},
   "source": [
    "Home goals vs away goals scatterplot aggreagated for each match day."
   ]
  },
  {
   "cell_type": "code",
   "execution_count": null,
   "metadata": {
    "collapsed": true
   },
   "outputs": [],
   "source": []
  }
 ],
 "metadata": {
  "kernelspec": {
   "display_name": "Python 3",
   "language": "python",
   "name": "python3"
  },
  "language_info": {
   "codemirror_mode": {
    "name": "ipython",
    "version": 3
   },
   "file_extension": ".py",
   "mimetype": "text/x-python",
   "name": "python",
   "nbconvert_exporter": "python",
   "pygments_lexer": "ipython3",
   "version": "3.3.5"
  }
 },
 "nbformat": 4,
 "nbformat_minor": 0
}
