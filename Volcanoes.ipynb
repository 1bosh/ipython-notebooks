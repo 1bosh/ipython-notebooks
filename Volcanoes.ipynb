{
 "metadata": {
  "name": ""
 },
 "nbformat": 3,
 "nbformat_minor": 0,
 "worksheets": [
  {
   "cells": [
    {
     "cell_type": "code",
     "collapsed": false,
     "input": [
      "import json\n",
      "\n",
      "from lxml import html\n",
      "import pandas as pd\n",
      "import matplotlib.pyplot as plt"
     ],
     "language": "python",
     "metadata": {},
     "outputs": [],
     "prompt_number": 2
    },
    {
     "cell_type": "markdown",
     "metadata": {},
     "source": [
      "## Get Volcano Data\n",
      "\n",
      "Parse volcanoes from tables from this [Volcano World page](http://volcano.oregonstate.edu/oldroot/volcanoes/alpha.html) and create a DataFrame from the data."
     ]
    },
    {
     "cell_type": "code",
     "collapsed": false,
     "input": [
      "url ='http://volcano.oregonstate.edu/oldroot/volcanoes/alpha.html'\n",
      "xpath = '//table'\n",
      "tree = html.parse(url)\n",
      "tables = tree.xpath(xpath)"
     ],
     "language": "python",
     "metadata": {},
     "outputs": [],
     "prompt_number": 130
    },
    {
     "cell_type": "code",
     "collapsed": false,
     "input": [
      "table_dfs = []\n",
      "for idx in range(4, len(tables)):\n",
      "    df = pd.read_html(html.tostring(tables[idx]), header=0)[0]\n",
      "    table_dfs.append(df)\n",
      "# ignore to create new index\n",
      "df_volc = pd.concat(table_dfs, ignore_index=True)"
     ],
     "language": "python",
     "metadata": {},
     "outputs": [],
     "prompt_number": 139
    },
    {
     "cell_type": "code",
     "collapsed": false,
     "input": [
      "df_volc.describe()"
     ],
     "language": "python",
     "metadata": {},
     "outputs": [
      {
       "html": [
        "<div style=\"max-height:1000px;max-width:1500px;overflow:auto;\">\n",
        "<table border=\"1\" class=\"dataframe\">\n",
        "  <thead>\n",
        "    <tr style=\"text-align: right;\">\n",
        "      <th></th>\n",
        "      <th>Latitude</th>\n",
        "      <th>Longitude</th>\n",
        "      <th>Elevation (m)</th>\n",
        "    </tr>\n",
        "  </thead>\n",
        "  <tbody>\n",
        "    <tr>\n",
        "      <th>count</th>\n",
        "      <td> 1554.000000</td>\n",
        "      <td> 1554.000000</td>\n",
        "      <td> 1513.000000</td>\n",
        "    </tr>\n",
        "    <tr>\n",
        "      <th>mean</th>\n",
        "      <td>   15.094472</td>\n",
        "      <td>   24.007915</td>\n",
        "      <td> 1694.248513</td>\n",
        "    </tr>\n",
        "    <tr>\n",
        "      <th>std</th>\n",
        "      <td>   31.605835</td>\n",
        "      <td>  112.999906</td>\n",
        "      <td> 1601.751231</td>\n",
        "    </tr>\n",
        "    <tr>\n",
        "      <th>min</th>\n",
        "      <td>  -78.250000</td>\n",
        "      <td> -179.970000</td>\n",
        "      <td>-6000.000000</td>\n",
        "    </tr>\n",
        "    <tr>\n",
        "      <th>25%</th>\n",
        "      <td>   -6.292500</td>\n",
        "      <td>  -78.322500</td>\n",
        "      <td>  746.000000</td>\n",
        "    </tr>\n",
        "    <tr>\n",
        "      <th>50%</th>\n",
        "      <td>   14.390000</td>\n",
        "      <td>   38.680000</td>\n",
        "      <td> 1496.000000</td>\n",
        "    </tr>\n",
        "    <tr>\n",
        "      <th>75%</th>\n",
        "      <td>   42.547500</td>\n",
        "      <td>  138.465000</td>\n",
        "      <td> 2390.000000</td>\n",
        "    </tr>\n",
        "    <tr>\n",
        "      <th>max</th>\n",
        "      <td>   88.270000</td>\n",
        "      <td>  179.580000</td>\n",
        "      <td> 6887.000000</td>\n",
        "    </tr>\n",
        "  </tbody>\n",
        "</table>\n",
        "<p>8 rows \u00d7 3 columns</p>\n",
        "</div>"
       ],
       "metadata": {},
       "output_type": "pyout",
       "prompt_number": 140,
       "text": [
        "          Latitude    Longitude  Elevation (m)\n",
        "count  1554.000000  1554.000000    1513.000000\n",
        "mean     15.094472    24.007915    1694.248513\n",
        "std      31.605835   112.999906    1601.751231\n",
        "min     -78.250000  -179.970000   -6000.000000\n",
        "25%      -6.292500   -78.322500     746.000000\n",
        "50%      14.390000    38.680000    1496.000000\n",
        "75%      42.547500   138.465000    2390.000000\n",
        "max      88.270000   179.580000    6887.000000\n",
        "\n",
        "[8 rows x 3 columns]"
       ]
      }
     ],
     "prompt_number": 140
    },
    {
     "cell_type": "code",
     "collapsed": false,
     "input": [
      "df_volc['Type'].value_counts()"
     ],
     "language": "python",
     "metadata": {},
     "outputs": [
      {
       "metadata": {},
       "output_type": "pyout",
       "prompt_number": 141,
       "text": [
        "Stratovolcano          601\n",
        "Shield volcano         121\n",
        "Stratovolcanoes        109\n",
        "Submarine volcano       95\n",
        "Volcanic field          82\n",
        "Caldera                 78\n",
        "Cinder cones            62\n",
        "Complex volcano         49\n",
        "Shield volcanoes        31\n",
        "Pyroclastic cones       30\n",
        "Lava domes              26\n",
        "Submarine volcano ?     19\n",
        "Fissure vents           16\n",
        "Submarine  volcano      16\n",
        "Shield  volcano         16\n",
        "...\n",
        "Tuff  cone           1\n",
        "Crater  rows         1\n",
        "Pyroclastic  cone    1\n",
        "Complex volcanoes    1\n",
        "Lava cones           1\n",
        "Shield volcanoe      1\n",
        "Stratovolcano  ?     1\n",
        "Somma volcanoes      1\n",
        "Volcanic Landform    1\n",
        "Island Arc           1\n",
        "Tuff  rings          1\n",
        "Cones                1\n",
        "Cinder Cone          1\n",
        "Lava Field           1\n",
        "Compound  volcano    1\n",
        "Length: 75, dtype: int64"
       ]
      }
     ],
     "prompt_number": 141
    },
    {
     "cell_type": "code",
     "collapsed": false,
     "input": [
      "# cleanup Type column, reindex and store cleaned data in a CSV file, \n",
      "def cleanup_type(s):\n",
      "    if not isinstance(s, str):\n",
      "        return s\n",
      "    s = s.replace('?', '').replace('  ', ' ')\n",
      "    s = s.replace('volcanoes', 'volcano')\n",
      "    s = s.replace('volcanoe', 'Volcano')\n",
      "    s = s.replace('cones', 'cone')\n",
      "    s = s.replace('Calderas', 'Caldera')\n",
      "    return s.strip().title()\n",
      "\n",
      "df_volc['Type'] = df_volc['Type'].map(cleanup_type)\n",
      "df_volc.to_csv('csv/volcanoes.csv', encoding='utf-8')"
     ],
     "language": "python",
     "metadata": {},
     "outputs": [],
     "prompt_number": 142
    },
    {
     "cell_type": "code",
     "collapsed": false,
     "input": [
      "# only keep volcanoes with elevation, lat and lon\n",
      "df_volc_complete = df_volc.dropna()\n",
      "df_volc_complete.head()"
     ],
     "language": "python",
     "metadata": {},
     "outputs": [
      {
       "html": [
        "<div style=\"max-height:1000px;max-width:1500px;overflow:auto;\">\n",
        "<table border=\"1\" class=\"dataframe\">\n",
        "  <thead>\n",
        "    <tr style=\"text-align: right;\">\n",
        "      <th></th>\n",
        "      <th>Name</th>\n",
        "      <th>Location</th>\n",
        "      <th>Type</th>\n",
        "      <th>Latitude</th>\n",
        "      <th>Longitude</th>\n",
        "      <th>Elevation (m)</th>\n",
        "    </tr>\n",
        "  </thead>\n",
        "  <tbody>\n",
        "    <tr>\n",
        "      <th>0</th>\n",
        "      <td>             Abu</td>\n",
        "      <td>  Honshu-Japan</td>\n",
        "      <td> Shield Volcano</td>\n",
        "      <td> 34.50</td>\n",
        "      <td> 131.60</td>\n",
        "      <td>  641</td>\n",
        "    </tr>\n",
        "    <tr>\n",
        "      <th>1</th>\n",
        "      <td>      Acamarachi</td>\n",
        "      <td>       Chile-N</td>\n",
        "      <td>  Stratovolcano</td>\n",
        "      <td>-23.30</td>\n",
        "      <td> -67.62</td>\n",
        "      <td> 6046</td>\n",
        "    </tr>\n",
        "    <tr>\n",
        "      <th>2</th>\n",
        "      <td>      Acatenango</td>\n",
        "      <td>     Guatemala</td>\n",
        "      <td>  Stratovolcano</td>\n",
        "      <td> 14.50</td>\n",
        "      <td> -90.88</td>\n",
        "      <td> 3976</td>\n",
        "    </tr>\n",
        "    <tr>\n",
        "      <th>3</th>\n",
        "      <td> Acig\u00f6l-Nevsehir</td>\n",
        "      <td>        Turkey</td>\n",
        "      <td>        Caldera</td>\n",
        "      <td> 38.57</td>\n",
        "      <td>  34.52</td>\n",
        "      <td> 1689</td>\n",
        "    </tr>\n",
        "    <tr>\n",
        "      <th>4</th>\n",
        "      <td>           Adams</td>\n",
        "      <td> US-Washington</td>\n",
        "      <td>  Stratovolcano</td>\n",
        "      <td> 46.21</td>\n",
        "      <td>-121.49</td>\n",
        "      <td> 3742</td>\n",
        "    </tr>\n",
        "  </tbody>\n",
        "</table>\n",
        "<p>5 rows \u00d7 6 columns</p>\n",
        "</div>"
       ],
       "metadata": {},
       "output_type": "pyout",
       "prompt_number": 146,
       "text": [
        "              Name       Location            Type  Latitude  Longitude  \\\n",
        "0              Abu   Honshu-Japan  Shield Volcano     34.50     131.60   \n",
        "1       Acamarachi        Chile-N   Stratovolcano    -23.30     -67.62   \n",
        "2       Acatenango      Guatemala   Stratovolcano     14.50     -90.88   \n",
        "3  Acig\u00f6l-Nevsehir         Turkey         Caldera     38.57      34.52   \n",
        "4            Adams  US-Washington   Stratovolcano     46.21    -121.49   \n",
        "\n",
        "   Elevation (m)  \n",
        "0            641  \n",
        "1           6046  \n",
        "2           3976  \n",
        "3           1689  \n",
        "4           3742  \n",
        "\n",
        "[5 rows x 6 columns]"
       ]
      }
     ],
     "prompt_number": 146
    },
    {
     "cell_type": "code",
     "collapsed": false,
     "input": [
      "df_globe_values = df_volc_complete[['Latitude', 'Longitude', 'Elevation (m)']]"
     ],
     "language": "python",
     "metadata": {},
     "outputs": [],
     "prompt_number": 147
    },
    {
     "cell_type": "code",
     "collapsed": false,
     "input": [
      "globe_values = df_globe_values.as_matrix().flatten().tolist()\n",
      "\n",
      "with open('globe_volcanoes.json', 'w') as f:\n",
      "    json.dump(globe_values, f)"
     ],
     "language": "python",
     "metadata": {},
     "outputs": [],
     "prompt_number": 166
    },
    {
     "cell_type": "code",
     "collapsed": false,
     "input": [
      "df_volc['Type'].value_counts()"
     ],
     "language": "python",
     "metadata": {},
     "outputs": [
      {
       "metadata": {},
       "output_type": "pyout",
       "prompt_number": 167,
       "text": [
        "Stratovolcano         713\n",
        "Shield Volcano        173\n",
        "Submarine Volcano     137\n",
        "Volcanic Field         98\n",
        "Caldera                87\n",
        "Cinder Cone            84\n",
        "Complex Volcano        56\n",
        "Pyroclastic Cone       43\n",
        "Lava Domes             31\n",
        "Fissure Vents          18\n",
        "Tuff Cone              14\n",
        "Maars                  12\n",
        "Compound Volcano       11\n",
        "Lava Dome              10\n",
        "Pyroclastic Shield      8\n",
        "Scoria Cone             8\n",
        "Maar                    7\n",
        "Unknown                 6\n",
        "Somma Volcano           6\n",
        "Subglacial Volcano      6\n",
        "Lava Cone               5\n",
        "Crater Rows             5\n",
        "Pumice Cone             3\n",
        "Fumarole Field          3\n",
        "Volcanic Complex        2\n",
        "Explosion Craters       2\n",
        "Fissure Vent            2\n",
        "Island Arc              1\n",
        "Cones                   1\n",
        "Flood Basalt            1\n",
        "Hydrothermal Field      1\n",
        "Flood Basalts           1\n",
        "Tuff Rings              1\n",
        "Volcanic Landform       1\n",
        "Cone                    1\n",
        "Lava Field              1\n",
        "dtype: int64"
       ]
      }
     ],
     "prompt_number": 167
    },
    {
     "cell_type": "code",
     "collapsed": false,
     "input": [],
     "language": "python",
     "metadata": {},
     "outputs": []
    }
   ],
   "metadata": {}
  }
 ]
}