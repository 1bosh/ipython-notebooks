{
 "cells": [
  {
   "cell_type": "code",
   "execution_count": 1,
   "metadata": {
    "collapsed": false
   },
   "outputs": [],
   "source": [
    "import sqlite3\n",
    "import pandas as pd\n",
    "import numpy as np\n",
    "import matplotlib.pyplot as plt\n",
    "\n",
    "conn = sqlite3.connect('sqlite/reddit-comments.sqlite')"
   ]
  },
  {
   "cell_type": "code",
   "execution_count": 2,
   "metadata": {
    "collapsed": false
   },
   "outputs": [
    {
     "data": {
      "text/plain": [
       "[(0, 'created_utc', 'INTEGER', 0, None, 0),\n",
       " (1, 'ups', 'INTEGER', 0, None, 0),\n",
       " (2, 'subreddit_id', '', 0, None, 0),\n",
       " (3, 'link_id', '', 0, None, 0),\n",
       " (4, 'name', '', 0, None, 0),\n",
       " (5, 'score_hidden', '', 0, None, 0),\n",
       " (6, 'author_flair_css_class', '', 0, None, 0),\n",
       " (7, 'author_flair_text', '', 0, None, 0),\n",
       " (8, 'subreddit', '', 0, None, 0),\n",
       " (9, 'id', '', 0, None, 0),\n",
       " (10, 'removal_reason', '', 0, None, 0),\n",
       " (11, 'gilded', 'int', 0, None, 0),\n",
       " (12, 'downs', 'int', 0, None, 0),\n",
       " (13, 'archived', '', 0, None, 0),\n",
       " (14, 'author', '', 0, None, 0),\n",
       " (15, 'score', 'int', 0, None, 0),\n",
       " (16, 'retrieved_on', 'int', 0, None, 0),\n",
       " (17, 'body', '', 0, None, 0),\n",
       " (18, 'distinguished', '', 0, None, 0),\n",
       " (19, 'edited', '', 0, None, 0),\n",
       " (20, 'controversiality', 'int', 0, None, 0),\n",
       " (21, 'parent_id', '', 0, None, 0)]"
      ]
     },
     "execution_count": 2,
     "metadata": {},
     "output_type": "execute_result"
    }
   ],
   "source": [
    "cursor = conn.execute('PRAGMA table_info(May2015)')\n",
    "cursor.fetchall()"
   ]
  },
  {
   "cell_type": "code",
   "execution_count": 3,
   "metadata": {
    "collapsed": false
   },
   "outputs": [
    {
     "data": {
      "text/plain": [
       "(54504410,)"
      ]
     },
     "execution_count": 3,
     "metadata": {},
     "output_type": "execute_result"
    }
   ],
   "source": [
    "cursor = conn.execute('SELECT COUNT(id) FROM May2015')\n",
    "comment_count = cursor.fetchone()\n",
    "comment_count"
   ]
  },
  {
   "cell_type": "code",
   "execution_count": null,
   "metadata": {
    "collapsed": false
   },
   "outputs": [],
   "source": [
    "sql = 'SELECT COUNT(id), subreddit FROM May2015 GROUP BY subreddit_id'\n",
    "# read into pandas dataframe\n",
    "df = pd.read_sql(sql, conn)"
   ]
  }
 ],
 "metadata": {
  "kernelspec": {
   "display_name": "Python 3",
   "language": "python",
   "name": "python3"
  },
  "language_info": {
   "codemirror_mode": {
    "name": "ipython",
    "version": 3
   },
   "file_extension": ".py",
   "mimetype": "text/x-python",
   "name": "python",
   "nbconvert_exporter": "python",
   "pygments_lexer": "ipython3",
   "version": "3.3.5"
  }
 },
 "nbformat": 4,
 "nbformat_minor": 0
}
