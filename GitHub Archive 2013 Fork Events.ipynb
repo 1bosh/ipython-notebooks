{
 "metadata": {
  "name": ""
 },
 "nbformat": 3,
 "nbformat_minor": 0,
 "worksheets": [
  {
   "cells": [
    {
     "cell_type": "markdown",
     "metadata": {},
     "source": [
      "In this IPython notebook I give an overview of GitHub fork events in 2013 based on data obtained from the [GitHub Archive](http://www.githubarchive.org/). This is part of a series of posts about [GitHub in 2013](http://blog.coderstats.net/github/2013/). The source code of this notebook is available in [this GitHub repository](https://github.com/yaph/ipython-notebooks), the CSV file with the fork events is not included due to its size. If there is demand, I look into uploading it to a data sharing service, proposals of what service to use are welcome.\n",
      "\n",
      "## Preliminaries\n",
      "\n",
      "First load the necessary packages, set a global footer text and a limit for the charts below."
     ]
    },
    {
     "cell_type": "code",
     "collapsed": false,
     "input": [
      "import datetime\n",
      "import itertools\n",
      "\n",
      "import pandas as pd\n",
      "import numpy as np\n",
      "import matplotlib.pyplot as plt\n",
      "\n",
      "from utils import graphs\n",
      "\n",
      "limit = 20\n",
      "footer = 'Data: githubarchive.org - Source: coderstats.net / @coderstats'"
     ],
     "language": "python",
     "metadata": {},
     "outputs": [],
     "prompt_number": 10
    },
    {
     "cell_type": "markdown",
     "metadata": {},
     "source": [
      "Read the fork events from a compressed CSV file, set the first column as the index and specify, that it is a date. Also add a Count column and set its values to 1 for aggregating events."
     ]
    },
    {
     "cell_type": "code",
     "collapsed": false,
     "input": [
      "df_forks = pd.read_csv('csv/githubarchive/2013/fork_events.csv.bz2', compression='bz2', index_col=0, parse_dates=[0], low_memory=False)\n",
      "df_forks['Count'] = 1\n",
      "df_forks.head()"
     ],
     "language": "python",
     "metadata": {},
     "outputs": [
      {
       "html": [
        "<div style=\"max-height:1000px;max-width:1500px;overflow:auto;\">\n",
        "<table border=\"1\" class=\"dataframe\">\n",
        "  <thead>\n",
        "    <tr style=\"text-align: right;\">\n",
        "      <th></th>\n",
        "      <th>Actor</th>\n",
        "      <th>Actor Type</th>\n",
        "      <th>Repo Forks</th>\n",
        "      <th>Repo Language</th>\n",
        "      <th>Repo Name</th>\n",
        "      <th>Repo Owner</th>\n",
        "      <th>Repo is Fork</th>\n",
        "      <th>Count</th>\n",
        "    </tr>\n",
        "  </thead>\n",
        "  <tbody>\n",
        "    <tr>\n",
        "      <th>2013-01-01 08:00:43</th>\n",
        "      <td>       msnrkjwr</td>\n",
        "      <td> User</td>\n",
        "      <td> 115</td>\n",
        "      <td>       Java</td>\n",
        "      <td>                  infinispan</td>\n",
        "      <td>      infinispan</td>\n",
        "      <td> False</td>\n",
        "      <td> 1</td>\n",
        "    </tr>\n",
        "    <tr>\n",
        "      <th>2013-01-01 08:01:08</th>\n",
        "      <td>       SnowCat6</td>\n",
        "      <td> User</td>\n",
        "      <td>  28</td>\n",
        "      <td>        NaN</td>\n",
        "      <td> android_prebuilt_toolchains</td>\n",
        "      <td>        DooMLoRD</td>\n",
        "      <td> False</td>\n",
        "      <td> 1</td>\n",
        "    </tr>\n",
        "    <tr>\n",
        "      <th>2013-01-01 08:01:06</th>\n",
        "      <td>  SrikanthKrish</td>\n",
        "      <td> User</td>\n",
        "      <td> 254</td>\n",
        "      <td>      Shell</td>\n",
        "      <td>                 OpenELEC.tv</td>\n",
        "      <td>        OpenELEC</td>\n",
        "      <td> False</td>\n",
        "      <td> 1</td>\n",
        "    </tr>\n",
        "    <tr>\n",
        "      <th>2013-01-01 08:02:25</th>\n",
        "      <td> songlipeng2003</td>\n",
        "      <td> User</td>\n",
        "      <td> 100</td>\n",
        "      <td> JavaScript</td>\n",
        "      <td>              nanoScrollerJS</td>\n",
        "      <td> jamesflorentino</td>\n",
        "      <td> False</td>\n",
        "      <td> 1</td>\n",
        "    </tr>\n",
        "    <tr>\n",
        "      <th>2013-01-01 08:02:32</th>\n",
        "      <td>      trongtran</td>\n",
        "      <td> User</td>\n",
        "      <td>  35</td>\n",
        "      <td>     Python</td>\n",
        "      <td>              sublime-jsdocs</td>\n",
        "      <td>         spadgos</td>\n",
        "      <td> False</td>\n",
        "      <td> 1</td>\n",
        "    </tr>\n",
        "  </tbody>\n",
        "</table>\n",
        "<p>5 rows \u00d7 8 columns</p>\n",
        "</div>"
       ],
       "metadata": {},
       "output_type": "pyout",
       "prompt_number": 11,
       "text": [
        "                              Actor Actor Type  Repo Forks Repo Language  \\\n",
        "2013-01-01 08:00:43        msnrkjwr       User         115          Java   \n",
        "2013-01-01 08:01:08        SnowCat6       User          28           NaN   \n",
        "2013-01-01 08:01:06   SrikanthKrish       User         254         Shell   \n",
        "2013-01-01 08:02:25  songlipeng2003       User         100    JavaScript   \n",
        "2013-01-01 08:02:32       trongtran       User          35        Python   \n",
        "\n",
        "                                       Repo Name       Repo Owner  \\\n",
        "2013-01-01 08:00:43                   infinispan       infinispan   \n",
        "2013-01-01 08:01:08  android_prebuilt_toolchains         DooMLoRD   \n",
        "2013-01-01 08:01:06                  OpenELEC.tv         OpenELEC   \n",
        "2013-01-01 08:02:25               nanoScrollerJS  jamesflorentino   \n",
        "2013-01-01 08:02:32               sublime-jsdocs          spadgos   \n",
        "\n",
        "                    Repo is Fork  Count  \n",
        "2013-01-01 08:00:43        False      1  \n",
        "2013-01-01 08:01:08        False      1  \n",
        "2013-01-01 08:01:06        False      1  \n",
        "2013-01-01 08:02:25        False      1  \n",
        "2013-01-01 08:02:32        False      1  \n",
        "\n",
        "[5 rows x 8 columns]"
       ]
      }
     ],
     "prompt_number": 11
    },
    {
     "cell_type": "markdown",
     "metadata": {},
     "source": [
      "Forks can be created by users and organizations, below we see how the user type distribution looks like."
     ]
    },
    {
     "cell_type": "code",
     "collapsed": false,
     "input": [
      "df_forks['Actor Type'].value_counts().plot(kind='bar', rot=0, title='Forks by user type')\n",
      "plt.show()"
     ],
     "language": "python",
     "metadata": {},
     "outputs": [
      {
       "metadata": {},
       "output_type": "display_data",
       "png": "[encoded data removed]",
       "text": [
        "<matplotlib.figure.Figure at 0x7f4f970c8a10>"
       ]
      }
     ],
     "prompt_number": 12
    },
    {
     "cell_type": "markdown",
     "metadata": {},
     "source": [
      "## Repositories by forks\n",
      "\n",
      "Let's find out which repositories were forked most often in 2013. Since repo names are not unique across users, I add a column `Repo Path` composed of user and repo names to have a unique identifier and a column to use for labels."
     ]
    },
    {
     "cell_type": "code",
     "collapsed": false,
     "input": [
      "df_forks['Repo Path'] = df_forks['Repo Owner'] + '/' + df_forks['Repo Name']"
     ],
     "language": "python",
     "metadata": {},
     "outputs": [],
     "prompt_number": 13
    },
    {
     "cell_type": "markdown",
     "metadata": {},
     "source": [
      "Now aggregate the repos grouping by the `Repo Path` column and summing up the `Count` values and plot the most forked repos in a horizontal bar chart."
     ]
    },
    {
     "cell_type": "code",
     "collapsed": false,
     "input": [
      "repos_grouped = df_forks.groupby('Repo Path')['Count'].sum()\n",
      "repos_grouped.sort()\n",
      "top_repos = repos_grouped.tail(limit)\n",
      "\n",
      "graphs.barh(top_repos.index, \n",
      "            top_repos,\n",
      "            'img/%d-most-forked-github-repos-2013.png' % limit,\n",
      "            figsize=(12, limit / 2),\n",
      "            title='%d most forked GitHub repos in 2013' % limit,\n",
      "            footer=footer)"
     ],
     "language": "python",
     "metadata": {},
     "outputs": [
      {
       "ename": "AttributeError",
       "evalue": "'str' object has no attribute 'decode'",
       "output_type": "pyerr",
       "traceback": [
        "\u001b[1;31m---------------------------------------------------------------------------\u001b[0m\n\u001b[1;31mAttributeError\u001b[0m                            Traceback (most recent call last)",
        "\u001b[1;32m<ipython-input-14-8c2261307f42>\u001b[0m in \u001b[0;36m<module>\u001b[1;34m()\u001b[0m\n\u001b[0;32m      8\u001b[0m             \u001b[0mfigsize\u001b[0m\u001b[1;33m=\u001b[0m\u001b[1;33m(\u001b[0m\u001b[1;36m12\u001b[0m\u001b[1;33m,\u001b[0m \u001b[0mlimit\u001b[0m \u001b[1;33m/\u001b[0m \u001b[1;36m2\u001b[0m\u001b[1;33m)\u001b[0m\u001b[1;33m,\u001b[0m\u001b[1;33m\u001b[0m\u001b[0m\n\u001b[0;32m      9\u001b[0m             \u001b[0mtitle\u001b[0m\u001b[1;33m=\u001b[0m\u001b[1;34m'%d most forked GitHub repos in 2013'\u001b[0m \u001b[1;33m%\u001b[0m \u001b[0mlimit\u001b[0m\u001b[1;33m,\u001b[0m\u001b[1;33m\u001b[0m\u001b[0m\n\u001b[1;32m---> 10\u001b[1;33m             footer=footer)\n\u001b[0m",
        "\u001b[1;32m/home/ramiro/repos/pub/ipython-notebooks/utils/graphs.py\u001b[0m in \u001b[0;36mbarh\u001b[1;34m(x, y, filename, figsize, title, footer)\u001b[0m\n\u001b[0;32m     29\u001b[0m \u001b[1;33m\u001b[0m\u001b[0m\n\u001b[0;32m     30\u001b[0m     \u001b[1;31m# Fix possible problems with unicode chars.\u001b[0m\u001b[1;33m\u001b[0m\u001b[1;33m\u001b[0m\u001b[0m\n\u001b[1;32m---> 31\u001b[1;33m     \u001b[0mlabels\u001b[0m \u001b[1;33m=\u001b[0m \u001b[1;33m[\u001b[0m\u001b[0ml\u001b[0m\u001b[1;33m.\u001b[0m\u001b[0mdecode\u001b[0m\u001b[1;33m(\u001b[0m\u001b[1;34m'utf-8'\u001b[0m\u001b[1;33m)\u001b[0m \u001b[1;32mfor\u001b[0m \u001b[0ml\u001b[0m \u001b[1;32min\u001b[0m \u001b[0mx\u001b[0m\u001b[1;33m]\u001b[0m\u001b[1;33m\u001b[0m\u001b[0m\n\u001b[0m\u001b[0;32m     32\u001b[0m \u001b[1;33m\u001b[0m\u001b[0m\n\u001b[0;32m     33\u001b[0m     \u001b[0mplt\u001b[0m\u001b[1;33m.\u001b[0m\u001b[0myticks\u001b[0m\u001b[1;33m(\u001b[0m\u001b[0mypos\u001b[0m\u001b[1;33m,\u001b[0m \u001b[0mlabels\u001b[0m\u001b[1;33m)\u001b[0m\u001b[1;33m\u001b[0m\u001b[0m\n",
        "\u001b[1;32m/home/ramiro/repos/pub/ipython-notebooks/utils/graphs.py\u001b[0m in \u001b[0;36m<listcomp>\u001b[1;34m(.0)\u001b[0m\n\u001b[0;32m     29\u001b[0m \u001b[1;33m\u001b[0m\u001b[0m\n\u001b[0;32m     30\u001b[0m     \u001b[1;31m# Fix possible problems with unicode chars.\u001b[0m\u001b[1;33m\u001b[0m\u001b[1;33m\u001b[0m\u001b[0m\n\u001b[1;32m---> 31\u001b[1;33m     \u001b[0mlabels\u001b[0m \u001b[1;33m=\u001b[0m \u001b[1;33m[\u001b[0m\u001b[0ml\u001b[0m\u001b[1;33m.\u001b[0m\u001b[0mdecode\u001b[0m\u001b[1;33m(\u001b[0m\u001b[1;34m'utf-8'\u001b[0m\u001b[1;33m)\u001b[0m \u001b[1;32mfor\u001b[0m \u001b[0ml\u001b[0m \u001b[1;32min\u001b[0m \u001b[0mx\u001b[0m\u001b[1;33m]\u001b[0m\u001b[1;33m\u001b[0m\u001b[0m\n\u001b[0m\u001b[0;32m     32\u001b[0m \u001b[1;33m\u001b[0m\u001b[0m\n\u001b[0;32m     33\u001b[0m     \u001b[0mplt\u001b[0m\u001b[1;33m.\u001b[0m\u001b[0myticks\u001b[0m\u001b[1;33m(\u001b[0m\u001b[0mypos\u001b[0m\u001b[1;33m,\u001b[0m \u001b[0mlabels\u001b[0m\u001b[1;33m)\u001b[0m\u001b[1;33m\u001b[0m\u001b[0m\n",
        "\u001b[1;31mAttributeError\u001b[0m: 'str' object has no attribute 'decode'"
       ]
      },
      {
       "metadata": {},
       "output_type": "display_data",
       "png": "[encoded data removed]",
       "text": [
        "<matplotlib.figure.Figure at 0x7f4f8ccd5ed0>"
       ]
      }
     ],
     "prompt_number": 14
    },
    {
     "cell_type": "markdown",
     "metadata": {},
     "source": [
      "Spoon-Knife is GitHub's example repo on the [Fork a Repo](https://help.github.com/articles/fork-a-repo) help page. Apart from that it, is not all that interesting, except maybe for the hidden easter egg (think Konami).\n",
      "\n",
      "The [Heroku node-js-sample](https://github.com/heroku/node-js-sample/) is a barebones Node.js app using the Express framework. With so many buzz words in one short sentence it had to be a success, at least for a certain time frame, as we'll see further below.\n",
      "\n",
      "Place 3 and 4 are actually the same project, bootstrap was moved from Twitter to a dedicated organization twbs, which makes sense, since the project founders [Mark Otto](http://markdotto.com/) and [Jacob Thornton](http://byfat.xxx/) left their jobs at Twitter.\n",
      "\n",
      "Given the noncompetitive nature of the Spoon-Knife project and adding up twitter/bootstrap and [twbs/bootstrap](https://github.com/twbs/bootstrap), bootstrap was the most forked \"real\" software project in 2013 by far.\n",
      "\n",
      "## Distribution of fork counts by repositories\n",
      "\n",
      "To get a better sense of how \"rare\" these popular projects are on GitHub in relation to the total number of projects, look at the Histograms below. The 1st one shows the whole distribution using a linear scale, the 2nd the whole distributions on a log scale, and the 3rd repos with up to a 1000 forks in 2013 on a log scale."
     ]
    },
    {
     "cell_type": "code",
     "collapsed": false,
     "input": [
      "fig, axes = plt.subplots(nrows=1, ncols=3, figsize=(15, 5))\n",
      "\n",
      "repos_grouped.hist(bins=100, ax=axes[0])\n",
      "repos_grouped.hist(bins=100, log=True, ax=axes[1])\n",
      "repos_grouped[repos_grouped < 1000].hist(bins=100, log=True, ax=axes[2])\n",
      "plt.show()"
     ],
     "language": "python",
     "metadata": {},
     "outputs": []
    },
    {
     "cell_type": "markdown",
     "metadata": {},
     "source": [
      "## Most forked repositories over time\n",
      "\n",
      "Next let's look at how the amount of forks of the most forked repositories has evolved over time. To do so plot a timeline for each of the top repos with fork counts grouped by date."
     ]
    },
    {
     "cell_type": "code",
     "collapsed": false,
     "input": [
      "top = top_repos[::-1]\n",
      "\n",
      "fig, axes = plt.subplots(nrows=limit / 2, ncols=2, sharex=True) \n",
      "fig.suptitle('GitHub top repos by forks over time in 2013', y=1.01, fontsize=14)\n",
      "fig.set_figheight(limit)\n",
      "fig.set_figwidth(14)\n",
      "\n",
      "for idx, coords in enumerate(itertools.product(range(limit / 2), range(2))):\n",
      "    ax = axes[coords[0], coords[1]]\n",
      "    repo = top.index[idx]\n",
      "    repo_forks = df_forks[df_forks['Repo Path'] == repo]\n",
      "    repo_forks['date'] = repo_forks.index.date\n",
      "    grouped = repo_forks.groupby('date').sum()\n",
      "    grouped['Count'].plot(ax=ax, legend=False, rot=45)\n",
      "    ax.set_title(repo)\n",
      "    ax.set_xlabel('', visible=False)\n",
      "\n",
      "fig.text(0, 0, footer, fontsize=12)\n",
      "fig.tight_layout()\n",
      "plt.show()"
     ],
     "language": "python",
     "metadata": {},
     "outputs": []
    },
    {
     "cell_type": "markdown",
     "metadata": {},
     "source": [
      "As with other timelines we saw in previous [github archive posts](http://blog.coderstats.net/tags/githubarchive/) there is quite some variation between work days and weekends. Moreover, we see spikes, which are most likely to be caused by increased exposure of the project outside of GitHub, e. g. Hacker News, Reddit et al.\n",
      "\n",
      "The most extreme spike occurs in the heroku/node-js-sample graph. Looking at the project's [commit history](https://github.com/heroku/node-js-sample/commits/master) most of the development occurred in July 2013 around the time of that huge increase in popularity. I assume that there was some kind of announcement by Heroku, which was spread though social networks and news sites, but I haven't found anything concrete.\n",
      "\n",
      "## Languages by forks\n",
      "\n",
      "It is no secret that JavaScript is the most popular language on GitHub based on the number of existing repositories. Let's see if this is also true for forks of repositories. A few things to bear in mind though are:\n",
      "\n",
      "* Many repositories contain code written in multiple languages, the one that has the highest share is represented as the main language, so if JavaScript has 49% and Python 48% and Shell 3%, JavaScript \"wins\".\n",
      "* GitHub's language detection [does have flaws](https://github.com/github/linguist/issues)\n",
      "* I assume, based on experience not on numbers, that more projects include frontend libraries like jQuery in their repos than backend libraries, which would benefit JS regarding byte count."
     ]
    },
    {
     "cell_type": "code",
     "collapsed": false,
     "input": [
      "langs_grouped = df_forks.groupby('Repo Language')['Count'].sum()\n",
      "langs_grouped.sort()\n",
      "top_langs = langs_grouped.tail(limit)\n",
      "\n",
      "graphs.barh(top_langs.index, \n",
      "            top_langs,\n",
      "            'img/%d-top-languages-forks-github-2013.png' % limit,\n",
      "            figsize=(12, limit / 2),\n",
      "            title='%d top languages by forks on GitHub in 2013' % limit,\n",
      "            footer=footer)"
     ],
     "language": "python",
     "metadata": {},
     "outputs": []
    },
    {
     "cell_type": "markdown",
     "metadata": {},
     "source": [
      "Unsurprisingly, JavaScript ranks no. 1, I did not expect such a huge gap between runner-up Java though. Also I did not expect Java to come in 2nd.\n",
      "\n",
      "## Top languages by forks timelines\n",
      "\n",
      "As for the repos, let's look at forks by languages over time. "
     ]
    },
    {
     "cell_type": "code",
     "collapsed": false,
     "input": [
      "top = top_langs[::-1]\n",
      "\n",
      "fig, axes = plt.subplots(nrows=limit / 2, ncols=2, sharex=True)\n",
      "fig.suptitle('GitHub top languages by forks over time in 2013', y=1.01, fontsize=14)\n",
      "fig.set_figheight(limit)\n",
      "fig.set_figwidth(14)\n",
      "\n",
      "for idx, coords in enumerate(itertools.product(range(limit / 2), range(2))):\n",
      "    ax = axes[coords[0], coords[1]]\n",
      "    lang = top.index[idx]\n",
      "    lang_forks = df_forks[df_forks['Repo Language'] == lang]\n",
      "    lang_forks['date'] = lang_forks.index.date\n",
      "    grouped = lang_forks.groupby('date').sum()\n",
      "    grouped['Count'].plot(ax=ax, legend=False, rot=45)\n",
      "    ax.set_title(lang)\n",
      "    ax.set_xlabel('', visible=False)\n",
      "\n",
      "fig.text(0, 0, footer, fontsize=12)\n",
      "fig.tight_layout()\n",
      "plt.show()"
     ],
     "language": "python",
     "metadata": {},
     "outputs": []
    },
    {
     "cell_type": "markdown",
     "metadata": {},
     "source": [
      "Many of the spikes are likely to be caused by projects and not by a sudden popularity increase of the language itself. I'll pick out Erlang to see what caused the most extreme spike across all graphs.\n",
      "\n",
      "First determine the exact date when the spike occurred by selecting all events that match Erlang as the `Repo Language`, then group and sort these events by date."
     ]
    },
    {
     "cell_type": "code",
     "collapsed": false,
     "input": [
      "df_erlang = df_forks[df_forks['Repo Language'] == 'Erlang']\n",
      "df_erlang['date'] = df_erlang.index.date\n",
      "df_erlang_grouped = df_erlang.groupby('date').sum()\n",
      "df_erlang_grouped.sort('Count').tail(1)"
     ],
     "language": "python",
     "metadata": {},
     "outputs": []
    },
    {
     "cell_type": "markdown",
     "metadata": {},
     "source": [
      "Now that we know the date, let's look at the fork events on that day."
     ]
    },
    {
     "cell_type": "code",
     "collapsed": false,
     "input": [
      "df_erlang_date = df_erlang[df_erlang['date'] == datetime.date(2013, 8, 19)]\n",
      "df_erlang_sum = df_erlang_date.groupby('Repo Path')['Count'].sum()\n",
      "df_erlang_sum.describe()"
     ],
     "language": "python",
     "metadata": {},
     "outputs": []
    },
    {
     "cell_type": "markdown",
     "metadata": {},
     "source": [
      "1250 different repos were forked that day. Apparently, this is not caused by a popularity surge of a single or a few repos. Was it a hyperactive actor as for [follow events](http://blog.coderstats.net/github/2013/follow-events/)?"
     ]
    },
    {
     "cell_type": "code",
     "collapsed": false,
     "input": [
      "df_erlang_sum = df_erlang_date.groupby('Actor')['Count'].sum()\n",
      "df_erlang_sum.describe()"
     ],
     "language": "python",
     "metadata": {},
     "outputs": []
    },
    {
     "cell_type": "markdown",
     "metadata": {},
     "source": [
      "1233 = Yes, but who?"
     ]
    },
    {
     "cell_type": "code",
     "collapsed": false,
     "input": [
      "df_erlang_sum.sort()\n",
      "df_erlang_sum.tail(1)"
     ],
     "language": "python",
     "metadata": {},
     "outputs": []
    },
    {
     "cell_type": "markdown",
     "metadata": {},
     "source": [
      "Again a user who doesn't exist any more on GitHub, just out of curiosity, see who many forks `chinnucsk` created in total in 2013."
     ]
    },
    {
     "cell_type": "code",
     "collapsed": false,
     "input": [
      "bot = df_forks[df_forks['Actor'] == 'chinnucsk']\n",
      "bot['Count'].sum()"
     ],
     "language": "python",
     "metadata": {},
     "outputs": []
    },
    {
     "cell_type": "markdown",
     "metadata": {},
     "source": [
      "3898 seems small compared to the more than [40,000 follows by threejs-cn](http://blog.coderstats.net/github/2013/follow-events/), but a fork certainly causes a lot more load on GitHub's side. I'm pretty sure that you cannot create that many forks on single day on GitHub any more.\n",
      "\n",
      "## Actors by forks\n",
      "\n",
      "As we've already looked at actors a little let's get a bigger picture. Who are the actors with the most forks in 2013."
     ]
    },
    {
     "cell_type": "code",
     "collapsed": false,
     "input": [
      "actors_grouped = df_forks.groupby('Actor')['Count'].sum()\n",
      "actors_grouped.sort()\n",
      "top_actors = actors_grouped.tail(limit)\n",
      "\n",
      "graphs.barh(top_actors.index, \n",
      "            top_actors,\n",
      "            'img/%d-top-actors-forks-github-2013.png' % limit,\n",
      "            figsize=(12, limit / 2),\n",
      "            title='%d top actors by forks on GitHub in 2013' % limit,\n",
      "            footer=footer)"
     ],
     "language": "python",
     "metadata": {},
     "outputs": []
    },
    {
     "cell_type": "markdown",
     "metadata": {},
     "source": [
      "Many of them are likely to be bots. Still, I wonder whether and why real users would fork more than 2 repos a day on average. Generally, users fork only a few repos per year as the histograms below reveal. This seems natural to me as the main motivation to create a fork should be to work on that forked code, shouldn't it?"
     ]
    },
    {
     "cell_type": "code",
     "collapsed": false,
     "input": [
      "fig, axes = plt.subplots(nrows=1, ncols=3, figsize=(15, 5))\n",
      "\n",
      "actors_grouped.hist(bins=100, ax=axes[0])\n",
      "actors_grouped.hist(bins=100, log=True, ax=axes[1])\n",
      "actors_grouped[actors_grouped < 600].hist(bins=100, log=True, ax=axes[2])\n",
      "plt.show()"
     ],
     "language": "python",
     "metadata": {},
     "outputs": []
    },
    {
     "cell_type": "markdown",
     "metadata": {},
     "source": [
      "## Summary\n",
      "\n",
      "In this notebook I explored fork events on GitHub in 2013. We saw that a comparatively small number of repos is very popular regarding the number of forks, but the vast majority of those that were forked in the past year have very few forks.\n",
      "\n",
      "Moreover, JavaScript is far ahead of all the other languages on GitHub and my best guess is that this gap will become even bigger this year.\n",
      "\n",
      "The next event type I'll look at are pull requests. Subscribe to the [RSS feed](http://blog.coderstats.net/rss.xml) or follow [@coderstats on Twitter](https://twitter.com/coderstats/) to be notified, when that notebook is published. "
     ]
    }
   ],
   "metadata": {}
  }
 ]
}