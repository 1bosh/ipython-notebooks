{
 "metadata": {
  "name": ""
 },
 "nbformat": 3,
 "nbformat_minor": 0,
 "worksheets": [
  {
   "cells": [
    {
     "cell_type": "markdown",
     "metadata": {},
     "source": [
      "In this IPython notebook I give a brief overview of GitHub follow events in 2013 based on data obtained from the [GitHub Archive](http://www.githubarchive.org/). This is a follow-up post to the [Event Types 2013 notebook](http://blog.coderstats.net/github/2013/event-types/). The source code of this notebook is available in [this GitHub repository](https://github.com/yaph/ipython-notebooks), the CSV file with the follow events is not included due to its size. If there is demand, I look into uploading it to a data sharing service, proposals of what service to use are welcome.\n",
      "\n",
      "## Preliminaries\n",
      "\n",
      "First load the necessary packages, set a global footer text and a limit for the bar charts below."
     ]
    },
    {
     "cell_type": "code",
     "collapsed": false,
     "input": [
      "import datetime\n",
      "import itertools\n",
      "\n",
      "import pandas as pd\n",
      "import numpy as np\n",
      "import matplotlib.pyplot as plt\n",
      "\n",
      "from utils import graphs\n",
      "\n",
      "limit = 30\n",
      "footer = 'Data: githubarchive.org - Source: coderstats.net / @coderstats'"
     ],
     "language": "python",
     "metadata": {},
     "outputs": [],
     "prompt_number": 1
    },
    {
     "cell_type": "markdown",
     "metadata": {},
     "source": [
      "Read the follow events from a compressed CSV file, set the first column as the index and specify, that it is a date. Also add a Count column and set its values to 1 for aggregating events by followers and followed users. "
     ]
    },
    {
     "cell_type": "code",
     "collapsed": false,
     "input": [
      "df_follows = pd.read_csv('csv/githubarchive/2013/follow_events.csv.bz2', compression='bz2', index_col=0, parse_dates=[0])\n",
      "df_follows['Count'] = 1\n",
      "df_follows.head()"
     ],
     "language": "python",
     "metadata": {},
     "outputs": [
      {
       "html": [
        "<div style=\"max-height:1000px;max-width:1500px;overflow:auto;\">\n",
        "<table border=\"1\" class=\"dataframe\">\n",
        "  <thead>\n",
        "    <tr style=\"text-align: right;\">\n",
        "      <th></th>\n",
        "      <th>Actor</th>\n",
        "      <th>Target</th>\n",
        "      <th>Count</th>\n",
        "    </tr>\n",
        "  </thead>\n",
        "  <tbody>\n",
        "    <tr>\n",
        "      <th>2013-01-01 08:00:48</th>\n",
        "      <td> kelsonzhao</td>\n",
        "      <td>        pjhyett</td>\n",
        "      <td> 1</td>\n",
        "    </tr>\n",
        "    <tr>\n",
        "      <th>2013-01-01 08:02:05</th>\n",
        "      <td>  bedreamer</td>\n",
        "      <td>           t-k-</td>\n",
        "      <td> 1</td>\n",
        "    </tr>\n",
        "    <tr>\n",
        "      <th>2013-01-01 08:03:17</th>\n",
        "      <td>    zonuexe</td>\n",
        "      <td>         0xrofi</td>\n",
        "      <td> 1</td>\n",
        "    </tr>\n",
        "    <tr>\n",
        "      <th>2013-01-01 08:03:56</th>\n",
        "      <td>     adulau</td>\n",
        "      <td> FredericJacobs</td>\n",
        "      <td> 1</td>\n",
        "    </tr>\n",
        "    <tr>\n",
        "      <th>2013-01-01 08:04:09</th>\n",
        "      <td>   conikeec</td>\n",
        "      <td>       garyburd</td>\n",
        "      <td> 1</td>\n",
        "    </tr>\n",
        "  </tbody>\n",
        "</table>\n",
        "<p>5 rows \u00d7 3 columns</p>\n",
        "</div>"
       ],
       "metadata": {},
       "output_type": "pyout",
       "prompt_number": 2,
       "text": [
        "                          Actor          Target  Count\n",
        "2013-01-01 08:00:48  kelsonzhao         pjhyett      1\n",
        "2013-01-01 08:02:05   bedreamer            t-k-      1\n",
        "2013-01-01 08:03:17     zonuexe          0xrofi      1\n",
        "2013-01-01 08:03:56      adulau  FredericJacobs      1\n",
        "2013-01-01 08:04:09    conikeec        garyburd      1\n",
        "\n",
        "[5 rows x 3 columns]"
       ]
      }
     ],
     "prompt_number": 2
    },
    {
     "cell_type": "markdown",
     "metadata": {},
     "source": [
      "## Most Following Users\n",
      "\n",
      "One eye-catching observation in the [previous notebook](http://blog.coderstats.net/github/2013/event-types/) was a huge spike in the follow events timeline, so let's shed some light on this by looking at the users who followed the most people. "
     ]
    },
    {
     "cell_type": "code",
     "collapsed": false,
     "input": [
      "top_followers = df_follows.groupby('Actor').sum().sort('Count').tail(limit)\n",
      "graphs.barh(top_followers.index, \n",
      "            top_followers.Count,\n",
      "            'img/%d-most-following-github-users-2013.png' % limit,\n",
      "            figsize=(12, 16),\n",
      "            title='%d most following GitHub users from 2013-01-01 to 2013-12-11' % limit,\n",
      "            footer=footer)"
     ],
     "language": "python",
     "metadata": {},
     "outputs": [
      {
       "ename": "AttributeError",
       "evalue": "'str' object has no attribute 'decode'",
       "output_type": "pyerr",
       "traceback": [
        "\u001b[1;31m---------------------------------------------------------------------------\u001b[0m\n\u001b[1;31mAttributeError\u001b[0m                            Traceback (most recent call last)",
        "\u001b[1;32m<ipython-input-3-8eb24e2fd54f>\u001b[0m in \u001b[0;36m<module>\u001b[1;34m()\u001b[0m\n\u001b[0;32m      5\u001b[0m             \u001b[0mfigsize\u001b[0m\u001b[1;33m=\u001b[0m\u001b[1;33m(\u001b[0m\u001b[1;36m12\u001b[0m\u001b[1;33m,\u001b[0m \u001b[1;36m16\u001b[0m\u001b[1;33m)\u001b[0m\u001b[1;33m,\u001b[0m\u001b[1;33m\u001b[0m\u001b[0m\n\u001b[0;32m      6\u001b[0m             \u001b[0mtitle\u001b[0m\u001b[1;33m=\u001b[0m\u001b[1;34m'%d most following GitHub users from 2013-01-01 to 2013-12-11'\u001b[0m \u001b[1;33m%\u001b[0m \u001b[0mlimit\u001b[0m\u001b[1;33m,\u001b[0m\u001b[1;33m\u001b[0m\u001b[0m\n\u001b[1;32m----> 7\u001b[1;33m             footer=footer)\n\u001b[0m",
        "\u001b[1;32m/home/ramiro/repos/pub/ipython-notebooks/utils/graphs.py\u001b[0m in \u001b[0;36mbarh\u001b[1;34m(x, y, filename, figsize, title, footer)\u001b[0m\n\u001b[0;32m     29\u001b[0m \u001b[1;33m\u001b[0m\u001b[0m\n\u001b[0;32m     30\u001b[0m     \u001b[1;31m# Fix possible problems with unicode chars.\u001b[0m\u001b[1;33m\u001b[0m\u001b[1;33m\u001b[0m\u001b[0m\n\u001b[1;32m---> 31\u001b[1;33m     \u001b[0mlabels\u001b[0m \u001b[1;33m=\u001b[0m \u001b[1;33m[\u001b[0m\u001b[0ml\u001b[0m\u001b[1;33m.\u001b[0m\u001b[0mdecode\u001b[0m\u001b[1;33m(\u001b[0m\u001b[1;34m'utf-8'\u001b[0m\u001b[1;33m)\u001b[0m \u001b[1;32mfor\u001b[0m \u001b[0ml\u001b[0m \u001b[1;32min\u001b[0m \u001b[0mx\u001b[0m\u001b[1;33m]\u001b[0m\u001b[1;33m\u001b[0m\u001b[0m\n\u001b[0m\u001b[0;32m     32\u001b[0m \u001b[1;33m\u001b[0m\u001b[0m\n\u001b[0;32m     33\u001b[0m     \u001b[0mplt\u001b[0m\u001b[1;33m.\u001b[0m\u001b[0myticks\u001b[0m\u001b[1;33m(\u001b[0m\u001b[0mypos\u001b[0m\u001b[1;33m,\u001b[0m \u001b[0mlabels\u001b[0m\u001b[1;33m)\u001b[0m\u001b[1;33m\u001b[0m\u001b[0m\n",
        "\u001b[1;32m/home/ramiro/repos/pub/ipython-notebooks/utils/graphs.py\u001b[0m in \u001b[0;36m<listcomp>\u001b[1;34m(.0)\u001b[0m\n\u001b[0;32m     29\u001b[0m \u001b[1;33m\u001b[0m\u001b[0m\n\u001b[0;32m     30\u001b[0m     \u001b[1;31m# Fix possible problems with unicode chars.\u001b[0m\u001b[1;33m\u001b[0m\u001b[1;33m\u001b[0m\u001b[0m\n\u001b[1;32m---> 31\u001b[1;33m     \u001b[0mlabels\u001b[0m \u001b[1;33m=\u001b[0m \u001b[1;33m[\u001b[0m\u001b[0ml\u001b[0m\u001b[1;33m.\u001b[0m\u001b[0mdecode\u001b[0m\u001b[1;33m(\u001b[0m\u001b[1;34m'utf-8'\u001b[0m\u001b[1;33m)\u001b[0m \u001b[1;32mfor\u001b[0m \u001b[0ml\u001b[0m \u001b[1;32min\u001b[0m \u001b[0mx\u001b[0m\u001b[1;33m]\u001b[0m\u001b[1;33m\u001b[0m\u001b[0m\n\u001b[0m\u001b[0;32m     32\u001b[0m \u001b[1;33m\u001b[0m\u001b[0m\n\u001b[0;32m     33\u001b[0m     \u001b[0mplt\u001b[0m\u001b[1;33m.\u001b[0m\u001b[0myticks\u001b[0m\u001b[1;33m(\u001b[0m\u001b[0mypos\u001b[0m\u001b[1;33m,\u001b[0m \u001b[0mlabels\u001b[0m\u001b[1;33m)\u001b[0m\u001b[1;33m\u001b[0m\u001b[0m\n",
        "\u001b[1;31mAttributeError\u001b[0m: 'str' object has no attribute 'decode'"
       ]
      },
      {
       "metadata": {},
       "output_type": "display_data",
       "png": "[encoded data removed]",
       "text": [
        "<matplotlib.figure.Figure at 0x7fcfc5457f10>"
       ]
      }
     ],
     "prompt_number": 3
    },
    {
     "cell_type": "markdown",
     "metadata": {},
     "source": [
      "Particularly user/bot **threejs-cn**, who unsurprisingly doesn't exist anymore on GitHub, stands out here, although a few of the others have quite impressive follow counts as well.\n",
      "\n",
      "Let's look **threejs-cn's** activity aggregated by date."
     ]
    },
    {
     "cell_type": "code",
     "collapsed": false,
     "input": [
      "bot = df_follows[df_follows['Actor'] == 'threejs-cn']\n",
      "bot['date'] = bot.index.date\n",
      "bot.groupby('date').sum()"
     ],
     "language": "python",
     "metadata": {},
     "outputs": []
    },
    {
     "cell_type": "markdown",
     "metadata": {},
     "source": [
      "Obviously, the one responsible for the spike we saw. Interestingly, one day earlier on [November 13, 2013](https://status.github.com/messages/2013-11-13) there was a DDoS attack on GitHub pages, but this might just be a coincidence. In any case, I assume that it is not more possible to follow 40k users on GitHub in a single day.\n",
      "\n",
      "## Most Followed Users\n",
      "\n",
      "Let's now look at who gained the most followers last year or more exactly from from 2013-01-01 to 2013-12-11."
     ]
    },
    {
     "cell_type": "code",
     "collapsed": false,
     "input": [
      "top_followed = df_follows.groupby('Target').sum().sort('Count').tail(limit)\n",
      "graphs.barh(top_followed.index, \n",
      "            top_followed.Count,\n",
      "            'img/%d-most-followed-github-users-2013.png' % limit,\n",
      "            figsize=(12, 16),\n",
      "            title='%d most followed GitHub users from 2013-01-01 to 2013-12-11' % limit,\n",
      "            footer=footer)"
     ],
     "language": "python",
     "metadata": {},
     "outputs": []
    },
    {
     "cell_type": "markdown",
     "metadata": {},
     "source": [
      "I wonder why Tom Preston-Werner ([mojombo](https://github.com/mojombo)) got so many more followers than his co-founder \n",
      "Chris Wanstrath ([defunkt](https://github.com/defunkt)). Both of them have some pretty popular repositories on GitHub.\n",
      "Maybe looking at their timelines of follow events reveals something.\n",
      "\n",
      "## Top Followed Users Timelines\n",
      "\n",
      "The code below will plot multiple line-graphs for the 20 most followed users in 2013. "
     ]
    },
    {
     "cell_type": "code",
     "collapsed": false,
     "input": [
      "top = top_followed.tail(20)\n",
      "\n",
      "fig, axes = plt.subplots(nrows=10, ncols=2) \n",
      "fig.suptitle('GitHub top followed users timelines for 2013', y=1.01, fontsize=14)\n",
      "fig.set_figheight(32)\n",
      "fig.set_figwidth(14)\n",
      "\n",
      "for idx, coords in enumerate(itertools.product(range(10), range(2))):\n",
      "    ax = axes[coords[0], coords[1]]\n",
      "    user = top.index[idx]\n",
      "    user_follows = df_follows[df_follows['Target'] == user]\n",
      "    user_follows['date'] = user_follows.index.date\n",
      "    grouped = user_follows.groupby('date').sum()\n",
      "    grouped.plot(ax=ax, legend=False, rot=45)\n",
      "    ax.set_title(user)\n",
      "    ax.set_xlabel('', visible=False)\n",
      "\n",
      "fig.text(0, 0, footer, fontsize=12)\n",
      "fig.tight_layout()\n",
      "plt.show()"
     ],
     "language": "python",
     "metadata": {},
     "outputs": []
    },
    {
     "cell_type": "markdown",
     "metadata": {},
     "source": [
      "The graphs for mojombo and defunkt show some spikes at the same dates, but also a few ones for mojombo only. Moreover, on average mojombo's follow counts are higher. But the graphs themselves do not indicate, what might be a reason for the difference in followers.\n",
      "\n",
      "Some of the other graphs look interesting too, e. g. user **funkenstein**, who got pretty much no followers throughout most the year and than more than 2000 in September."
     ]
    },
    {
     "cell_type": "code",
     "collapsed": false,
     "input": [
      "fs = df_follows[df_follows['Target'] == 'funkenstein']\n",
      "fs['date'] = fs.index.date\n",
      "fs.groupby('date').sum().sort('Count').tail()"
     ],
     "language": "python",
     "metadata": {},
     "outputs": []
    },
    {
     "cell_type": "markdown",
     "metadata": {},
     "source": [
      "When you look at [his profile now](https://github.com/funkenstein), he has \"only\" 30 followers, so there is definitely something fishy about that. I checked some of the original data files to make sure this is no error, which may have occurred during pre-processing. Also let's see whether the users who followed him are not always the same one."
     ]
    },
    {
     "cell_type": "code",
     "collapsed": false,
     "input": [
      "fs.groupby('Actor').sum()"
     ],
     "language": "python",
     "metadata": {},
     "outputs": []
    },
    {
     "cell_type": "markdown",
     "metadata": {},
     "source": [
      "Well, that is also not the case, so this remains a bit of a mystery. Somehow, I don't believe that he just lost all these followers in the past few months.\n",
      "\n",
      "In case of the other graphs where we can see some unusual spikes these numbers are a lot lower and may well be explicable by repos of these users getting popular on Hacker News or Reddit.\n",
      "\n",
      "That's it for my look at follow events one of the next things I'll explore will be fork and pull request events of repositories, [stay tuned](http://blog.coderstats.net/rss.xml)."
     ]
    }
   ],
   "metadata": {}
  }
 ]
}