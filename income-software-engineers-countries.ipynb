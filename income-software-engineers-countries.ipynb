{
 "cells": [
  {
   "cell_type": "markdown",
   "metadata": {},
   "source": [
    "# What Software Engineers Earn Compared to the General Population"
   ]
  },
  {
   "cell_type": "markdown",
   "metadata": {},
   "source": [
    "In this notebook we'll compare the median annual income of Software Engineers to the average annual income (GDP per Capita) in 50 countries. It's shown how to scrape the data from a web page using [lxml](http://lxml.de/), turn it into a [Pandas](http://pandas.pydata.org/) dataframe, clean it up and create scatter and bar plots with [matplotlib](http://matplotlib.org/) to visualize the general trend and see which countries are the best and worst for Software Engineers based on how much they earn compared to the average person.\n",
    "\n",
    "The data comes from [PayScale](http://www.payscale.com/) and the [International Monetary Fund](http://www.imf.org/) and was published by [Bloomberg](http://www.bloomberg.com/visual-data/best-and-worst/highest-paid-software-engineers-countries) in May 2014. It includes figures for 50 countries for which data was most available to PayScale. The Software Engineer figures represent income data collected from May 1, 2013, to May 1, 2014, and use exchange rates from May 5, 2014. The median years of work experience for survey respondents from each country range from two to five years.\n",
    "\n",
    "## Setup\n",
    "\n",
    "First we load the necessary libraries, set the plot style and some variables, inlcuding a [geonamescache](https://github.com/yaph/geonamescache) object for adding country codes used to link geographic data with income figures in this [interactive map]()."
   ]
  },
  {
   "cell_type": "code",
   "execution_count": 263,
   "metadata": {
    "collapsed": false
   },
   "outputs": [
    {
     "name": "stdout",
     "output_type": "stream",
     "text": [
      "The signature extension is already loaded. To reload it, use:\n",
      "  %reload_ext signature\n"
     ]
    }
   ],
   "source": [
    "%load_ext signature\n",
    "%matplotlib inline\n",
    "\n",
    "import os\n",
    "\n",
    "import pandas as pd\n",
    "import matplotlib as mpl\n",
    "import matplotlib.pyplot as plt\n",
    "import numpy as np\n",
    "\n",
    "import geonamescache\n",
    "\n",
    "from lxml import html\n",
    "\n",
    "mpl.style.use('ramiro')\n",
    "\n",
    "data_dir = os.path.expanduser('~/data')\n",
    "gc = geonamescache.GeonamesCache()\n",
    "\n",
    "chartinfo = '''Figures represent income data from May 2013 to May 2014 using exchange rates from May 2014. Average annual income figures are for 2014.\n",
    "Author: Ramiro Gómez - ramiro.org • Data: Bloomberg/PayScale - bloomberg.com/visual-data/best-and-worst/highest-paid-software-engineers-countries'''"
   ]
  },
  {
   "cell_type": "markdown",
   "metadata": {},
   "source": [
    "## Data retrieval and cleanup\n",
    "\n",
    "To scrape the data from the web page, I looked at the source to determine a way to identify the data table. It is the only table on the page with a class of `hid` so the xpath expression below can be used to extract the table from the HTML source after it was loaded."
   ]
  },
  {
   "cell_type": "code",
   "execution_count": 302,
   "metadata": {
    "collapsed": true
   },
   "outputs": [],
   "source": [
    "url ='http://www.bloomberg.com/visual-data/best-and-worst/highest-paid-software-engineers-countries'\n",
    "xpath = '//table[@class=\"hid\"]'\n",
    " \n",
    "tree = html.parse(url)\n",
    "table = tree.xpath(xpath)[0]\n",
    "raw_html = html.tostring(table)"
   ]
  },
  {
   "cell_type": "markdown",
   "metadata": {},
   "source": [
    "Pandas makes it easy to turn this raw HTML string into a dataframe. We instruct it to use the `Rank` column as the index and the first row as the header. The [read_html](http://pandas.pydata.org/pandas-docs/stable/generated/pandas.read_html.html) function returns a list, in our case of one dataframe object, so we just grab this and print the first few rows"
   ]
  },
  {
   "cell_type": "code",
   "execution_count": 303,
   "metadata": {
    "collapsed": false
   },
   "outputs": [
    {
     "data": {
      "text/html": [
       "<div>\n",
       "<table border=\"1\" class=\"dataframe\">\n",
       "  <thead>\n",
       "    <tr style=\"text-align: right;\">\n",
       "      <th></th>\n",
       "      <th>Country</th>\n",
       "      <th>Ratio of median software engineer pay to average income</th>\n",
       "      <th>Median annual pay for software engineers</th>\n",
       "      <th>Average annual income</th>\n",
       "    </tr>\n",
       "    <tr>\n",
       "      <th>Rank</th>\n",
       "      <th></th>\n",
       "      <th></th>\n",
       "      <th></th>\n",
       "      <th></th>\n",
       "    </tr>\n",
       "  </thead>\n",
       "  <tbody>\n",
       "    <tr>\n",
       "      <th>1</th>\n",
       "      <td>Pakistan  t</td>\n",
       "      <td>5.56</td>\n",
       "      <td>$7,200</td>\n",
       "      <td>$1,296</td>\n",
       "    </tr>\n",
       "    <tr>\n",
       "      <th>2</th>\n",
       "      <td>India  t</td>\n",
       "      <td>3.91</td>\n",
       "      <td>$6,200</td>\n",
       "      <td>$1,584</td>\n",
       "    </tr>\n",
       "    <tr>\n",
       "      <th>3</th>\n",
       "      <td>South Africa  t</td>\n",
       "      <td>3.64</td>\n",
       "      <td>$24,000</td>\n",
       "      <td>$6,595</td>\n",
       "    </tr>\n",
       "    <tr>\n",
       "      <th>4</th>\n",
       "      <td>Bulgaria  t</td>\n",
       "      <td>3.28</td>\n",
       "      <td>$25,200</td>\n",
       "      <td>$7,682</td>\n",
       "    </tr>\n",
       "    <tr>\n",
       "      <th>5</th>\n",
       "      <td>China  t</td>\n",
       "      <td>3.15</td>\n",
       "      <td>$23,100</td>\n",
       "      <td>$7,333</td>\n",
       "    </tr>\n",
       "  </tbody>\n",
       "</table>\n",
       "</div>"
      ],
      "text/plain": [
       "              Country  \\\n",
       "Rank                    \n",
       "1         Pakistan  t   \n",
       "2            India  t   \n",
       "3     South Africa  t   \n",
       "4         Bulgaria  t   \n",
       "5            China  t   \n",
       "\n",
       "      Ratio of median software engineer pay to average income  \\\n",
       "Rank                                                            \n",
       "1                                                  5.56         \n",
       "2                                                  3.91         \n",
       "3                                                  3.64         \n",
       "4                                                  3.28         \n",
       "5                                                  3.15         \n",
       "\n",
       "     Median annual pay for software engineers Average annual income  \n",
       "Rank                                                                 \n",
       "1                                      $7,200                $1,296  \n",
       "2                                      $6,200                $1,584  \n",
       "3                                     $24,000                $6,595  \n",
       "4                                     $25,200                $7,682  \n",
       "5                                     $23,100                $7,333  "
      ]
     },
     "execution_count": 303,
     "metadata": {},
     "output_type": "execute_result"
    }
   ],
   "source": [
    "df = pd.read_html(raw_html, header=0, index_col=0)[0]\n",
    "df.head()"
   ]
  },
  {
   "cell_type": "markdown",
   "metadata": {},
   "source": [
    "and the data types that were automatically determined by Pandas."
   ]
  },
  {
   "cell_type": "code",
   "execution_count": 304,
   "metadata": {
    "collapsed": false
   },
   "outputs": [
    {
     "data": {
      "text/plain": [
       "Country                                                     object\n",
       "Ratio of median software engineer pay to average income    float64\n",
       "Median annual pay for software engineers                    object\n",
       "Average annual income                                       object\n",
       "dtype: object"
      ]
     },
     "execution_count": 304,
     "metadata": {},
     "output_type": "execute_result"
    }
   ],
   "source": [
    "df.dtypes"
   ]
  },
  {
   "cell_type": "markdown",
   "metadata": {},
   "source": [
    "The output above shows, that we need to do some cleanup before continuing with further exploration. The values in the `Country` column all end in a space followed by a t, which we just remove. Also we need to turn the dollar amounts into a numeric type for use in calculations and plots."
   ]
  },
  {
   "cell_type": "code",
   "execution_count": 305,
   "metadata": {
    "collapsed": false
   },
   "outputs": [
    {
     "data": {
      "text/plain": [
       "Country                                                     object\n",
       "Ratio of median software engineer pay to average income    float64\n",
       "Median annual pay for software engineers                     int64\n",
       "Average annual income                                        int64\n",
       "dtype: object"
      ]
     },
     "execution_count": 305,
     "metadata": {},
     "output_type": "execute_result"
    }
   ],
   "source": [
    "df['Country'] = df['Country'].apply(lambda x: x.rstrip('t').strip())\n",
    "\n",
    "for col in df.columns[2:]:\n",
    "    df[col] = pd.to_numeric(df[col].apply(lambda x: x.lstrip('$').replace(',', '')))\n",
    "\n",
    "df.dtypes"
   ]
  },
  {
   "cell_type": "markdown",
   "metadata": {},
   "source": [
    "This looks better now. As a sanity check we can test whether the ratio that is contained in the data agrees with the income numbers. To do so we calculate the ratio ourselves and compare it to the existing one."
   ]
  },
  {
   "cell_type": "code",
   "execution_count": 310,
   "metadata": {
    "collapsed": false
   },
   "outputs": [
    {
     "data": {
      "text/plain": [
       "True"
      ]
     },
     "execution_count": 310,
     "metadata": {},
     "output_type": "execute_result"
    }
   ],
   "source": [
    "ratio = round(df['Median annual pay for software engineers'] / df['Average annual income'], 2)\n",
    "all(ratio == df['Ratio of median software engineer pay to average income'])"
   ]
  },
  {
   "cell_type": "markdown",
   "metadata": {},
   "source": [
    "## Exploration and visualization\n",
    "\n",
    "To get a holistic view we first create a scatter plot with all 50 records showing the median Software Engineer income on the X axis and the annual average of the whole population on the Y axis. We also draw a quadratic polynomial fitting curve to see if we can spot a trend."
   ]
  },
  {
   "cell_type": "code",
   "execution_count": 314,
   "metadata": {
    "collapsed": false
   },
   "outputs": [
    {
     "data": {
      "image/png": "[encoded data removed]",
      "text/plain": [
       "<matplotlib.figure.Figure at 0x7f74d4a0e320>"
      ]
     },
     "metadata": {},
     "output_type": "display_data"
    }
   ],
   "source": [
    "x = 'Median annual pay for software engineers'\n",
    "y = 'Average annual income'\n",
    "title = 'Median annual income of software engineers vs. general average in 50 countries'\n",
    "\n",
    "fig = plt.figure(figsize=(11, 9))\n",
    "ax = fig.add_subplot(111)\n",
    "ax.plot(x, y, '.', data=df, ms=10, alpha=.7)\n",
    "ax.set_title(title, fontsize=20, y=1.04)\n",
    "ax.set_xlabel(x)\n",
    "ax.set_ylim(bottom=0, top=101000)\n",
    "ax.set_ylabel(y)\n",
    "\n",
    "# Polynomial curve fitting \n",
    "# http://docs.scipy.org/doc/numpy/reference/routines.polynomials.classes.html\n",
    "polynomial = np.polynomial.Polynomial.fit(df[x], df[y], 2)\n",
    "xp = np.linspace(0, 120000, 100)\n",
    "yp = polynomial(xp)\n",
    "ax.plot(xp, yp, '-', lw=1, alpha=.5)\n",
    "\n",
    "fig.text(0, -.04 , chartinfo, fontsize=11)\n",
    "plt.show()"
   ]
  },
  {
   "cell_type": "markdown",
   "metadata": {},
   "source": [
    "Before interpreting this and the following plots, I'll point out a few issues with the data. We do not know how many respondents took part in the PayScale survey and we do know that their work experiences range from 2 to 5 years. Whether this sample is a good representation for the income of Software Engineers in the respective countries is questionable.\n",
    "\n",
    "Moreover, we compare median annual values for Software Engineers with mean annual values for the general population. Considering [how large the income share of top earners](http://ramiro.org/notebook/top-incomes-share/) is in several countries, annual median values for the general population might well show a different picture.\n",
    "\n",
    "With this in mind, Software Engineer looks like a good career choice in the majority of the 50 countries. In some of the countries we see in the lower left, mid-level Software Engineers earn multiples of what the average person does. But there are also countries, where Software Engineers earn a lot less. To find out which are the best and worst countries for Software Engineers with respect to income we'll plot rankings in form of bar plots next."
   ]
  },
  {
   "cell_type": "code",
   "execution_count": null,
   "metadata": {
    "collapsed": true
   },
   "outputs": [],
   "source": []
  },
  {
   "cell_type": "markdown",
   "metadata": {},
   "source": [
    "Map country names to ISO3 codes and delete columns not needed in the [Web based map](http://maps.ramiro.org/income-software-engineers-countries/)."
   ]
  },
  {
   "cell_type": "code",
   "execution_count": 178,
   "metadata": {
    "collapsed": false
   },
   "outputs": [
    {
     "data": {
      "text/html": [
       "<div>\n",
       "<table border=\"1\" class=\"dataframe\">\n",
       "  <thead>\n",
       "    <tr style=\"text-align: right;\">\n",
       "      <th></th>\n",
       "      <th>Country</th>\n",
       "      <th>Ratio of median software engineer pay to average income</th>\n",
       "      <th>Median annual pay for software engineers</th>\n",
       "      <th>Average annual income</th>\n",
       "      <th>iso3</th>\n",
       "    </tr>\n",
       "    <tr>\n",
       "      <th>Rank</th>\n",
       "      <th></th>\n",
       "      <th></th>\n",
       "      <th></th>\n",
       "      <th></th>\n",
       "      <th></th>\n",
       "    </tr>\n",
       "  </thead>\n",
       "  <tbody>\n",
       "    <tr>\n",
       "      <th>1</th>\n",
       "      <td>Pakistan</td>\n",
       "      <td>5.56</td>\n",
       "      <td>7200</td>\n",
       "      <td>1296</td>\n",
       "      <td>PAK</td>\n",
       "    </tr>\n",
       "    <tr>\n",
       "      <th>2</th>\n",
       "      <td>India</td>\n",
       "      <td>3.91</td>\n",
       "      <td>6200</td>\n",
       "      <td>1584</td>\n",
       "      <td>IND</td>\n",
       "    </tr>\n",
       "    <tr>\n",
       "      <th>3</th>\n",
       "      <td>South Africa</td>\n",
       "      <td>3.64</td>\n",
       "      <td>24000</td>\n",
       "      <td>6595</td>\n",
       "      <td>ZAF</td>\n",
       "    </tr>\n",
       "    <tr>\n",
       "      <th>4</th>\n",
       "      <td>Bulgaria</td>\n",
       "      <td>3.28</td>\n",
       "      <td>25200</td>\n",
       "      <td>7682</td>\n",
       "      <td>BGR</td>\n",
       "    </tr>\n",
       "    <tr>\n",
       "      <th>5</th>\n",
       "      <td>China</td>\n",
       "      <td>3.15</td>\n",
       "      <td>23100</td>\n",
       "      <td>7333</td>\n",
       "      <td>CHN</td>\n",
       "    </tr>\n",
       "  </tbody>\n",
       "</table>\n",
       "</div>"
      ],
      "text/plain": [
       "           Country  Ratio of median software engineer pay to average income  \\\n",
       "Rank                                                                          \n",
       "1         Pakistan                                               5.56         \n",
       "2            India                                               3.91         \n",
       "3     South Africa                                               3.64         \n",
       "4         Bulgaria                                               3.28         \n",
       "5            China                                               3.15         \n",
       "\n",
       "      Median annual pay for software engineers  Average annual income iso3  \n",
       "Rank                                                                        \n",
       "1                                         7200                   1296  PAK  \n",
       "2                                         6200                   1584  IND  \n",
       "3                                        24000                   6595  ZAF  \n",
       "4                                        25200                   7682  BGR  \n",
       "5                                        23100                   7333  CHN  "
      ]
     },
     "execution_count": 178,
     "metadata": {},
     "output_type": "execute_result"
    }
   ],
   "source": [
    "names = gc.get_countries_by_names()\n",
    "df['iso3'] = df['Country'].apply(lambda x: names[x]['iso3'])\n",
    "df.head(5)"
   ]
  },
  {
   "cell_type": "markdown",
   "metadata": {},
   "source": [
    "Save as CSV."
   ]
  },
  {
   "cell_type": "code",
   "execution_count": 179,
   "metadata": {
    "collapsed": false
   },
   "outputs": [],
   "source": [
    "df.to_csv(data_dir + '/economy/income-software-engineers-countries.csv', encoding='utf-8', index=False)"
   ]
  },
  {
   "cell_type": "code",
   "execution_count": 262,
   "metadata": {
    "collapsed": false
   },
   "outputs": [
    {
     "data": {
      "text/html": [
       "Author: <a href=\"http://ramiro.org/\">Ramiro Gómez</a>\n",
       "            • Last edited: April 07, 2016<br>Linux 4.2.0-35-generic - CPython 3.5.1 - IPython 4.1.2 - matplotlib 1.5.1 - pandas 0.18.0"
      ],
      "text/plain": [
       "<IPython.core.display.HTML object>"
      ]
     },
     "execution_count": 262,
     "metadata": {},
     "output_type": "execute_result"
    }
   ],
   "source": [
    "signature"
   ]
  },
  {
   "cell_type": "code",
   "execution_count": null,
   "metadata": {
    "collapsed": true
   },
   "outputs": [],
   "source": []
  }
 ],
 "metadata": {
  "kernelspec": {
   "display_name": "Python 3",
   "language": "python",
   "name": "python3"
  },
  "language_info": {
   "codemirror_mode": {
    "name": "ipython",
    "version": 3
   },
   "file_extension": ".py",
   "mimetype": "text/x-python",
   "name": "python",
   "nbconvert_exporter": "python",
   "pygments_lexer": "ipython3",
   "version": "3.5.1"
  }
 },
 "nbformat": 4,
 "nbformat_minor": 0
}
