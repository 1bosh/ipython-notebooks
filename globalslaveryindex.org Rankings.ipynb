{
 "metadata": {
  "name": ""
 },
 "nbformat": 3,
 "nbformat_minor": 0,
 "worksheets": [
  {
   "cells": [
    {
     "cell_type": "code",
     "collapsed": false,
     "input": [
      "from lxml import html\n",
      "import pandas as pd\n",
      "import matplotlib.pyplot as plt\n",
      "import geonamescache\n",
      "\n",
      "gc = geonamescache.GeonamesCache()"
     ],
     "language": "python",
     "metadata": {},
     "outputs": [],
     "prompt_number": 29
    },
    {
     "cell_type": "code",
     "collapsed": false,
     "input": [
      "url ='http://www.globalslaveryindex.org/findings/'\n",
      "xpath = '//table'\n",
      " \n",
      "tree = html.parse(url)\n",
      "table = tree.xpath(xpath)[3]\n",
      "raw_html = html.tostring(table)\n",
      "\n",
      "df = pd.read_html(raw_html)[0]"
     ],
     "language": "python",
     "metadata": {},
     "outputs": [],
     "prompt_number": 26
    },
    {
     "cell_type": "code",
     "collapsed": false,
     "input": [
      "cnames = gc.get_countries_by_names()\n",
      "mapping = {\n",
      "    \"C\u00f4te d'Ivoire\": 'Ivory Coast',\n",
      "    'Republic of Congo': 'Democratic Republic of the Congo',\n",
      "    'Timor-Leste': 'East Timor',\n",
      "    'Hong Kong, SAR China': 'Hong Kong'\n",
      "}\n",
      "\n",
      "def get_iso3(name):\n",
      "    if name in mapping:\n",
      "        name = mapping[name]\n",
      "    return cnames[name]['iso3']\n",
      "\n",
      "df['iso3'] = df['Country Name'].apply(get_iso3)\n",
      "df['Calculated Percentage'] = df['Calculated Number of Enslaved'] / df['Population'] * 100"
     ],
     "language": "python",
     "metadata": {},
     "outputs": [],
     "prompt_number": 56
    },
    {
     "cell_type": "code",
     "collapsed": false,
     "input": [
      "df.to_csv('csv/globalslaveryindex.csv')"
     ],
     "language": "python",
     "metadata": {},
     "outputs": [],
     "prompt_number": 58
    },
    {
     "cell_type": "code",
     "collapsed": false,
     "input": [],
     "language": "python",
     "metadata": {},
     "outputs": []
    }
   ],
   "metadata": {}
  }
 ]
}