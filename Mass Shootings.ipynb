{
 "metadata": {
  "name": ""
 },
 "nbformat": 3,
 "nbformat_minor": 0,
 "worksheets": [
  {
   "cells": [
    {
     "cell_type": "markdown",
     "metadata": {},
     "source": [
      "http://shootingtracker.com/wiki/Mass_Shootings_in_2013\n",
      "\n",
      "Mass shootings by weekday\n",
      "\n",
      "http://blog.coderstats.net/github/2013/event-types/"
     ]
    }
   ],
   "metadata": {}
  }
 ]
}