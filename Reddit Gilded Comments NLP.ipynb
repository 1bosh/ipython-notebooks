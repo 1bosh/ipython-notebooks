{
 "cells": [
  {
   "cell_type": "code",
   "execution_count": 1,
   "metadata": {
    "collapsed": false
   },
   "outputs": [
    {
     "data": {
      "text/html": [
       "<div>\n",
       "<table border=\"1\" class=\"dataframe\">\n",
       "  <thead>\n",
       "    <tr style=\"text-align: right;\">\n",
       "      <th></th>\n",
       "      <th>body</th>\n",
       "      <th>score_hidden</th>\n",
       "      <th>archived</th>\n",
       "      <th>name</th>\n",
       "      <th>author</th>\n",
       "      <th>author_flair_text</th>\n",
       "      <th>downs</th>\n",
       "      <th>created_utc</th>\n",
       "      <th>subreddit_id</th>\n",
       "      <th>link_id</th>\n",
       "      <th>parent_id</th>\n",
       "      <th>score</th>\n",
       "      <th>retrieved_on</th>\n",
       "      <th>controversiality</th>\n",
       "      <th>gilded</th>\n",
       "      <th>id</th>\n",
       "      <th>subreddit</th>\n",
       "      <th>ups</th>\n",
       "      <th>distinguished</th>\n",
       "      <th>author_flair_css_class</th>\n",
       "    </tr>\n",
       "  </thead>\n",
       "  <tbody>\n",
       "    <tr>\n",
       "      <th>0</th>\n",
       "      <td>Even more reason to go suck it\\n</td>\n",
       "      <td>False</td>\n",
       "      <td>False</td>\n",
       "      <td>t1_crraphe</td>\n",
       "      <td>BoogieKing</td>\n",
       "      <td>Seattle Sounders</td>\n",
       "      <td>0</td>\n",
       "      <td>1433115464</td>\n",
       "      <td>t5_2rbnb</td>\n",
       "      <td>t3_37zxin</td>\n",
       "      <td>t1_crrakgo</td>\n",
       "      <td>5</td>\n",
       "      <td>1433505594</td>\n",
       "      <td>0</td>\n",
       "      <td>1</td>\n",
       "      <td>crraphe</td>\n",
       "      <td>MLS</td>\n",
       "      <td>5</td>\n",
       "      <td>NaN</td>\n",
       "      <td>seattle-sounders</td>\n",
       "    </tr>\n",
       "    <tr>\n",
       "      <th>1</th>\n",
       "      <td>I'm Sikh, I spent some time yesterday talking ...</td>\n",
       "      <td>False</td>\n",
       "      <td>False</td>\n",
       "      <td>t1_crraqoo</td>\n",
       "      <td>Qweef</td>\n",
       "      <td>NaN</td>\n",
       "      <td>0</td>\n",
       "      <td>1433115527</td>\n",
       "      <td>t5_2qh33</td>\n",
       "      <td>t3_3803l7</td>\n",
       "      <td>t1_crraezp</td>\n",
       "      <td>318</td>\n",
       "      <td>1433505607</td>\n",
       "      <td>0</td>\n",
       "      <td>1</td>\n",
       "      <td>crraqoo</td>\n",
       "      <td>funny</td>\n",
       "      <td>318</td>\n",
       "      <td>NaN</td>\n",
       "      <td>NaN</td>\n",
       "    </tr>\n",
       "    <tr>\n",
       "      <th>2</th>\n",
       "      <td>I had a blast with it https://www.youtube.com/...</td>\n",
       "      <td>False</td>\n",
       "      <td>False</td>\n",
       "      <td>t1_crras65</td>\n",
       "      <td>Skylent</td>\n",
       "      <td>NaN</td>\n",
       "      <td>0</td>\n",
       "      <td>1433115604</td>\n",
       "      <td>t5_2s2ul</td>\n",
       "      <td>t3_37rgak</td>\n",
       "      <td>t3_37rgak</td>\n",
       "      <td>2</td>\n",
       "      <td>1433505625</td>\n",
       "      <td>0</td>\n",
       "      <td>1</td>\n",
       "      <td>crras65</td>\n",
       "      <td>AndroidGaming</td>\n",
       "      <td>2</td>\n",
       "      <td>NaN</td>\n",
       "      <td>NaN</td>\n",
       "    </tr>\n",
       "    <tr>\n",
       "      <th>3</th>\n",
       "      <td>&amp;gt; using this as segue into talking to our k...</td>\n",
       "      <td>False</td>\n",
       "      <td>False</td>\n",
       "      <td>t1_crrau1p</td>\n",
       "      <td>StandardToaster895</td>\n",
       "      <td>St. Louis Cardinals</td>\n",
       "      <td>0</td>\n",
       "      <td>1433115706</td>\n",
       "      <td>t5_2qm7u</td>\n",
       "      <td>t3_37zzky</td>\n",
       "      <td>t1_crr6t5q</td>\n",
       "      <td>-13</td>\n",
       "      <td>1433505650</td>\n",
       "      <td>1</td>\n",
       "      <td>1</td>\n",
       "      <td>crrau1p</td>\n",
       "      <td>baseball</td>\n",
       "      <td>-13</td>\n",
       "      <td>NaN</td>\n",
       "      <td>stl</td>\n",
       "    </tr>\n",
       "    <tr>\n",
       "      <th>4</th>\n",
       "      <td>&amp;gt;Who are our world leaders?\\nI think it sho...</td>\n",
       "      <td>False</td>\n",
       "      <td>False</td>\n",
       "      <td>t1_crrauyi</td>\n",
       "      <td>Nomenimion</td>\n",
       "      <td>NaN</td>\n",
       "      <td>0</td>\n",
       "      <td>1433115752</td>\n",
       "      <td>t5_2t7no</td>\n",
       "      <td>t3_380ke7</td>\n",
       "      <td>t3_380ke7</td>\n",
       "      <td>5</td>\n",
       "      <td>1433505662</td>\n",
       "      <td>0</td>\n",
       "      <td>1</td>\n",
       "      <td>crrauyi</td>\n",
       "      <td>Futurology</td>\n",
       "      <td>5</td>\n",
       "      <td>NaN</td>\n",
       "      <td>NaN</td>\n",
       "    </tr>\n",
       "  </tbody>\n",
       "</table>\n",
       "</div>"
      ],
      "text/plain": [
       "                                                body score_hidden archived  \\\n",
       "0                   Even more reason to go suck it\\n        False    False   \n",
       "1  I'm Sikh, I spent some time yesterday talking ...        False    False   \n",
       "2  I had a blast with it https://www.youtube.com/...        False    False   \n",
       "3  &gt; using this as segue into talking to our k...        False    False   \n",
       "4  &gt;Who are our world leaders?\\nI think it sho...        False    False   \n",
       "\n",
       "         name              author    author_flair_text  downs  created_utc  \\\n",
       "0  t1_crraphe          BoogieKing     Seattle Sounders      0   1433115464   \n",
       "1  t1_crraqoo               Qweef                  NaN      0   1433115527   \n",
       "2  t1_crras65             Skylent                  NaN      0   1433115604   \n",
       "3  t1_crrau1p  StandardToaster895  St. Louis Cardinals      0   1433115706   \n",
       "4  t1_crrauyi          Nomenimion                  NaN      0   1433115752   \n",
       "\n",
       "  subreddit_id    link_id   parent_id  score  retrieved_on  controversiality  \\\n",
       "0     t5_2rbnb  t3_37zxin  t1_crrakgo      5    1433505594                 0   \n",
       "1     t5_2qh33  t3_3803l7  t1_crraezp    318    1433505607                 0   \n",
       "2     t5_2s2ul  t3_37rgak   t3_37rgak      2    1433505625                 0   \n",
       "3     t5_2qm7u  t3_37zzky  t1_crr6t5q    -13    1433505650                 1   \n",
       "4     t5_2t7no  t3_380ke7   t3_380ke7      5    1433505662                 0   \n",
       "\n",
       "   gilded       id      subreddit  ups distinguished author_flair_css_class  \n",
       "0       1  crraphe            MLS    5           NaN       seattle-sounders  \n",
       "1       1  crraqoo          funny  318           NaN                    NaN  \n",
       "2       1  crras65  AndroidGaming    2           NaN                    NaN  \n",
       "3       1  crrau1p       baseball  -13           NaN                    stl  \n",
       "4       1  crrauyi     Futurology    5           NaN                    NaN  "
      ]
     },
     "execution_count": 1,
     "metadata": {},
     "output_type": "execute_result"
    }
   ],
   "source": [
    "%matplotlib inline\n",
    "%load_ext signature\n",
    "\n",
    "import pandas as pd\n",
    "import numpy as np\n",
    "import matplotlib as mpl\n",
    "import matplotlib.pyplot as plt\n",
    "import helpers\n",
    "\n",
    "# Set style and meta info.\n",
    "mpl.style.use('ramiro')\n",
    "\n",
    "chartinfo = 'Author: Ramiro Gómez - ramiro.org • Data: Reddit /u/Stuck_In_the_Matrix & /u/fhoffa - reddit.com'\n",
    "infosize = 12\n",
    "\n",
    "df = pd.read_csv('csv/reddit_comments_201505_gilded_comments.csv')\n",
    "df.head()"
   ]
  },
  {
   "cell_type": "code",
   "execution_count": 20,
   "metadata": {
    "collapsed": false
   },
   "outputs": [],
   "source": [
    "comment_texts = df.body.str.cat(sep=' ')"
   ]
  },
  {
   "cell_type": "code",
   "execution_count": 21,
   "metadata": {
    "collapsed": false
   },
   "outputs": [
    {
     "data": {
      "text/plain": [
       "11009502"
      ]
     },
     "execution_count": 21,
     "metadata": {},
     "output_type": "execute_result"
    }
   ],
   "source": [
    "len(comment_texts)"
   ]
  },
  {
   "cell_type": "code",
   "execution_count": 22,
   "metadata": {
    "collapsed": true
   },
   "outputs": [],
   "source": [
    "import re\n",
    "\n",
    "def tokens(text):\n",
    "    \"List all the word tokens (consecutive letters) in a text. Normalize to lowercase.\"\n",
    "    return re.findall('[a-z]+', text.lower()) \n",
    "\n",
    "words = tokens(comment_texts)"
   ]
  },
  {
   "cell_type": "code",
   "execution_count": 26,
   "metadata": {
    "collapsed": false
   },
   "outputs": [
    {
     "data": {
      "text/plain": [
       "1982567"
      ]
     },
     "execution_count": 26,
     "metadata": {},
     "output_type": "execute_result"
    }
   ],
   "source": [
    "len(words)"
   ]
  },
  {
   "cell_type": "code",
   "execution_count": 27,
   "metadata": {
    "collapsed": false
   },
   "outputs": [
    {
     "data": {
      "text/plain": [
       "'our any rather my way i punished it sure rsingapore'"
      ]
     },
     "execution_count": 27,
     "metadata": {},
     "output_type": "execute_result"
    }
   ],
   "source": [
    "import random\n",
    "\n",
    "def sample(bag, n=10):\n",
    "    \"Sample a random n-word sentence from the model described by the bag of words.\"\n",
    "    return ' '.join(random.choice(bag) for _ in range(n))\n",
    "\n",
    "sentence = sample(words)\n",
    "sentence"
   ]
  },
  {
   "cell_type": "code",
   "execution_count": 30,
   "metadata": {
    "collapsed": false
   },
   "outputs": [
    {
     "data": {
      "text/plain": [
       "[('the', 79050),\n",
       " ('to', 52863),\n",
       " ('and', 47530),\n",
       " ('a', 46259),\n",
       " ('i', 42879),\n",
       " ('of', 36653),\n",
       " ('you', 33002),\n",
       " ('it', 28871),\n",
       " ('that', 27195),\n",
       " ('in', 25512)]"
      ]
     },
     "execution_count": 30,
     "metadata": {},
     "output_type": "execute_result"
    }
   ],
   "source": [
    "from collections import Counter\n",
    "\n",
    "counts = Counter(words)\n",
    "counts.most_common(10)"
   ]
  },
  {
   "cell_type": "code",
   "execution_count": 36,
   "metadata": {
    "collapsed": false
   },
   "outputs": [
    {
     "data": {
      "image/png": "[encoded data removed]",
      "text/plain": [
       "<matplotlib.figure.Figure at 0x7f0c5d43ea58>"
      ]
     },
     "metadata": {},
     "output_type": "display_data"
    }
   ],
   "source": [
    "max_count = counts['the']\n",
    "\n",
    "plt.yscale('log')\n",
    "plt.xscale('log')\n",
    "plt.title('Frequency of n-th most frequent word and 1/n line.')\n",
    "\n",
    "plt.plot([c for (w, c) in counts.most_common()])\n",
    "plt.plot([max_count / i for i in range(1, len(counts) + 1)]);"
   ]
  },
  {
   "cell_type": "code",
   "execution_count": null,
   "metadata": {
    "collapsed": true
   },
   "outputs": [],
   "source": []
  }
 ],
 "metadata": {
  "kernelspec": {
   "display_name": "Python 3",
   "language": "python",
   "name": "python3"
  },
  "language_info": {
   "codemirror_mode": {
    "name": "ipython",
    "version": 3
   },
   "file_extension": ".py",
   "mimetype": "text/x-python",
   "name": "python",
   "nbconvert_exporter": "python",
   "pygments_lexer": "ipython3",
   "version": "3.4.3"
  }
 },
 "nbformat": 4,
 "nbformat_minor": 0
}
